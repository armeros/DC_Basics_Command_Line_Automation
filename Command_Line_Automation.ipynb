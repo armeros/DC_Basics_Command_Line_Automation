{
  "nbformat": 4,
  "nbformat_minor": 0,
  "metadata": {
    "colab": {
      "name": "Command Line Automation",
      "provenance": []
    },
    "kernelspec": {
      "name": "python3",
      "display_name": "Python 3"
    },
    "language_info": {
      "name": "python"
    }
  },
  "cells": [
    {
      "cell_type": "markdown",
      "metadata": {
        "id": "1vAEr5AH-M4b"
      },
      "source": [
        "### **Caveats**: The subprocess commands may not run on local pc.  For example, Microsoft Windows does not conform to POSIX by default. For instance, there is no `ls` binary. Therefore, subprocess cannot find the file `ls`, and thus emits a `FileNotFoundError`.\n",
        "\n",
        "For example, my pc on Windows 7 cannot even execute `ls`.\n",
        "\n",
        "*  You can install [Microsoft's Bash on Windows](https://docs.microsoft.com/en-us/windows/wsl/install-win10), which will give you `ls` and probably many other Shell's command in this lecture."
      ]
    },
    {
      "cell_type": "markdown",
      "metadata": {
        "id": "u8VhHwb1UNKk"
      },
      "source": [
        "# **Using `IPython` with shell commands**\n",
        "\n",
        "To get the output of the display free disk usage command, or `df`, in human-readable form, \"`!`\" is put in front of the df command and the `dash h` flag is used."
      ]
    },
    {
      "cell_type": "code",
      "metadata": {
        "colab": {
          "base_uri": "https://localhost:8080/"
        },
        "id": "7Jw-XGOuOQYm",
        "outputId": "76d64006-e2c7-47b9-cf62-808ae47352f2"
      },
      "source": [
        "!df -h"
      ],
      "execution_count": null,
      "outputs": [
        {
          "output_type": "stream",
          "text": [
            "Filesystem      Size  Used Avail Use% Mounted on\n",
            "overlay         108G   39G   70G  36% /\n",
            "tmpfs            64M     0   64M   0% /dev\n",
            "tmpfs           6.4G     0  6.4G   0% /sys/fs/cgroup\n",
            "shm             5.9G     0  5.9G   0% /dev/shm\n",
            "tmpfs           6.4G   24K  6.4G   1% /var/colab\n",
            "/dev/sda1       114G   41G   74G  36% /etc/hosts\n",
            "tmpfs           6.4G     0  6.4G   0% /proc/acpi\n",
            "tmpfs           6.4G     0  6.4G   0% /proc/scsi\n",
            "tmpfs           6.4G     0  6.4G   0% /sys/firmware\n"
          ],
          "name": "stdout"
        }
      ]
    },
    {
      "cell_type": "markdown",
      "metadata": {
        "id": "uOYZkbFTU07X"
      },
      "source": [
        "*   Notice how the output is whitespace delimited. \n",
        "*   This output is columnar format.\n",
        "*   `IPython` gives us the ability to parse that columnar structure into an `SList` data type. \n",
        "\n",
        "# **Capturing output from IPython shell commands**\n",
        "\n",
        "*  The output of shell commands can be captured by assigning them to a variable. \n",
        "*  They are stored as a `Python` data type called `IPython.utils.text.SList`. \n",
        "\n",
        "For example,\n",
        "\n"
      ]
    },
    {
      "cell_type": "code",
      "metadata": {
        "colab": {
          "base_uri": "https://localhost:8080/"
        },
        "id": "YtgGMOOPUjhZ",
        "outputId": "1707e8af-531e-4109-9b17-7cf8eed1619f"
      },
      "source": [
        "ls = !ls\n",
        "df = !df -h\n",
        "print(type(ls),type(df))"
      ],
      "execution_count": null,
      "outputs": [
        {
          "output_type": "stream",
          "text": [
            "<class 'IPython.utils.text.SList'> <class 'IPython.utils.text.SList'>\n"
          ],
          "name": "stdout"
        }
      ]
    },
    {
      "cell_type": "markdown",
      "metadata": {
        "id": "m75sGUj8WlKW"
      },
      "source": [
        "# **The \"!\" can be used only on `IPython Shell` or `Jupyter Notebook`.**\n",
        "\n",
        "*  If you use this syntax in a Python script,e.g., `my_script.py`, it will throw a Syntax Error. \n",
        "*  To accomplish the same thing in Python scripts you would instead need to use the `subprocess` module.\n",
        "\n",
        "# **Passing programs to the Python interpreter**\n",
        "The Python interpreter can be run in two ways. \n",
        "\n",
        "*   The first way is to pass it a script, e.g.,\n",
        "\n",
        "`python my_script.py`\n",
        "\n",
        "*   The second way is to pass it programs via the `dash c` flag."
      ]
    },
    {
      "cell_type": "code",
      "metadata": {
        "colab": {
          "base_uri": "https://localhost:8080/"
        },
        "id": "UNn22nNlV_Vu",
        "outputId": "542579eb-ad29-451c-fa4d-7a6074602989"
      },
      "source": [
        "!python -c \"from datetime import datetime; import pytz; tz = pytz.timezone('Asia/Bangkok'); print(datetime.now(tz).strftime('%H:%M:%S'))\""
      ],
      "execution_count": null,
      "outputs": [
        {
          "output_type": "stream",
          "text": [
            "17:11:39\n"
          ],
          "name": "stdout"
        }
      ]
    },
    {
      "cell_type": "markdown",
      "metadata": {
        "id": "k_hHW-gbZ9Hg"
      },
      "source": [
        "This `python -c` can be useful to test out small snippits of code or to create shell aliases that provide functionality in a `bash` or a `zsh` config file.\n",
        "\n",
        "# **Execute Python Commands**\n",
        "\n",
        "Below an An IPython script, `script.ipy`, has been provided for you to work in. You can run the script by running `ipython script.ipy` in the console."
      ]
    },
    {
      "cell_type": "code",
      "metadata": {
        "id": "YI0fFLP4YOd3",
        "colab": {
          "base_uri": "https://localhost:8080/"
        },
        "outputId": "f4af8fd7-d897-4812-81e7-7ce31a885313"
      },
      "source": [
        "!python3 -c \"from random import choices;days = ['Mo', 'Tu', 'We', 'Th', 'Fr'];print(choices(days))\""
      ],
      "execution_count": null,
      "outputs": [
        {
          "output_type": "stream",
          "text": [
            "['We']\n"
          ],
          "name": "stdout"
        }
      ]
    },
    {
      "cell_type": "markdown",
      "metadata": {
        "id": "2nr6mgIndUHh"
      },
      "source": [
        "# **Execute IPython Shell Commands**\n",
        "\n",
        "*  Determine how many files of a specific type live in a directory by using this along with the built-in `len()` method. \n",
        "*  The output of `!ls` will return a list which you can store as a variable.\n",
        "\n"
      ]
    },
    {
      "cell_type": "markdown",
      "metadata": {
        "id": "NGjnlvDffLd1"
      },
      "source": [
        "*   Navigate to the `sample_data` directory and check how many total files have the extension `.csv`. Store the results of command to the variable `var`.\n",
        "\n",
        "*   Run `len()` on var to print the number of `.csv `files that live in the directory."
      ]
    },
    {
      "cell_type": "code",
      "metadata": {
        "colab": {
          "base_uri": "https://localhost:8080/"
        },
        "id": "FyGjPwWbfISx",
        "outputId": "9a866b33-6742-48aa-9971-4aa522eefbc7"
      },
      "source": [
        "var = !ls -h sample_data/*.csv\n",
        "print(var)\n",
        "print(len(var))\n",
        "\n",
        "e = []\n",
        "for name in var:\n",
        "    e.extend(name.split())\n",
        "print(e)\n"
      ],
      "execution_count": null,
      "outputs": [
        {
          "output_type": "stream",
          "text": [
            "['sample_data/california_housing_test.csv   sample_data/mnist_test.csv', 'sample_data/california_housing_train.csv  sample_data/mnist_train_small.csv']\n",
            "2\n",
            "['sample_data/california_housing_test.csv', 'sample_data/mnist_test.csv', 'sample_data/california_housing_train.csv', 'sample_data/mnist_train_small.csv']\n"
          ],
          "name": "stdout"
        }
      ]
    },
    {
      "cell_type": "markdown",
      "metadata": {
        "id": "hXxcF8D_gh3y"
      },
      "source": [
        "This is strange.  The result is not neat.  However,  you can use `!ls */*.csv` to find the number of `csv` files. If you store as a variable, you can then use: `len(var)` to get the count."
      ]
    },
    {
      "cell_type": "markdown",
      "metadata": {
        "id": "RvByALBYCFkQ"
      },
      "source": [
        "# **Capture IPython Shell Output**\n",
        "\n",
        "*    In the cell below an initial `ls` command will emit the results to standard out. \n",
        "*    First, write a test file."
      ]
    },
    {
      "cell_type": "code",
      "metadata": {
        "colab": {
          "base_uri": "https://localhost:8080/"
        },
        "id": "UKbazTwCfgE0",
        "outputId": "34ca0e13-d9a2-40b3-c372-6e5f6131a0f5"
      },
      "source": [
        "%%file numbers.txt\n",
        "1 12\n",
        "2 18\n",
        "3 45\n",
        "4 5\n",
        "5 71\n",
        "6 96\n",
        "7 13\n",
        "8 12"
      ],
      "execution_count": null,
      "outputs": [
        {
          "output_type": "stream",
          "text": [
            "Writing numbers.txt\n"
          ],
          "name": "stdout"
        }
      ]
    },
    {
      "cell_type": "code",
      "metadata": {
        "colab": {
          "base_uri": "https://localhost:8080/"
        },
        "id": "jdm-prhgJmdU",
        "outputId": "66bc9baa-69e7-4bbb-a2c1-94700ad820f6"
      },
      "source": [
        "!ls -l"
      ],
      "execution_count": null,
      "outputs": [
        {
          "output_type": "stream",
          "text": [
            "total 8\n",
            "-rw-r--r-- 1 root root   38 Jun 11 14:13 numbers.txt\n",
            "drwxr-xr-x 1 root root 4096 Jun  1 13:40 sample_data\n"
          ],
          "name": "stdout"
        }
      ]
    },
    {
      "cell_type": "markdown",
      "metadata": {
        "id": "jEx27-dgEK2U"
      },
      "source": [
        "*  Next the `awk` command adds the `fift column` values of every file that is piped into the command and prints the sum.\n",
        "*  คอลัมน์ที่พูดถึง คือ คอลัมน์จาก output ของ `ls -l` ***ไม่ใช่ คอลัมน์ของตัวเลขในไฟล์***\n",
        "*  คอลัมน์ที่ 5 คือ ขนาด bytes ของไฟล์"
      ]
    },
    {
      "cell_type": "code",
      "metadata": {
        "colab": {
          "base_uri": "https://localhost:8080/"
        },
        "id": "vO_FD5L_fl7a",
        "outputId": "f9c861de-6d2d-48ce-abf4-64a29914416f"
      },
      "source": [
        "ls -l | awk '{ SUM+=$5} END {print SUM}' "
      ],
      "execution_count": null,
      "outputs": [
        {
          "output_type": "stream",
          "text": [
            "4134\n"
          ],
          "name": "stdout"
        }
      ]
    },
    {
      "cell_type": "markdown",
      "metadata": {
        "id": "YEBKL_Y1bryI"
      },
      "source": [
        "*  ตัวเลข 4134 ข้างบน มาจาก 38 + 4096\n",
        "*  ลองทำคอลัมน์อื่นๆเป็นตัวอย่างดู"
      ]
    },
    {
      "cell_type": "code",
      "metadata": {
        "colab": {
          "base_uri": "https://localhost:8080/"
        },
        "id": "dgdXElyncHcs",
        "outputId": "25b93e16-0898-4bc8-d104-e7c53ac6526f"
      },
      "source": [
        "!ls -l | awk '{ SUM+=$1} END {print SUM}' \n",
        "!ls -l | awk '{ SUM+=$2} END {print SUM}' \n",
        "!ls -l | awk '{ SUM+=$3} END {print SUM}' \n",
        "!ls -l | awk '{ SUM+=$4} END {print SUM}' \n",
        "!ls -l | awk '{ SUM+=$5} END {print SUM}' \n",
        "!ls -l | awk '{ SUM+=$6} END {print SUM}' \n",
        "!ls -l | awk '{ SUM+=$7} END {print SUM}' \n",
        "!ls -l | awk '{ SUM+=$8} END {print SUM}' \n",
        "!ls -l | awk '{ SUM+=$9} END {print SUM}' \n",
        "!ls -l | awk '{ SUM+=$10} END {print SUM}' "
      ],
      "execution_count": null,
      "outputs": [
        {
          "output_type": "stream",
          "text": [
            "0\n",
            "10\n",
            "0\n",
            "0\n",
            "4134\n",
            "0\n",
            "12\n",
            "27\n",
            "0\n",
            "0\n"
          ],
          "name": "stdout"
        }
      ]
    },
    {
      "cell_type": "markdown",
      "metadata": {
        "id": "brlXjOz-FTbK"
      },
      "source": [
        "The `grep` command filters the standard output of the `ls` command which then sends `.txt` files and `sample` folder to the third command, `awk`, to summarize. "
      ]
    },
    {
      "cell_type": "code",
      "metadata": {
        "colab": {
          "base_uri": "https://localhost:8080/"
        },
        "id": "S216RnXLEiiS",
        "outputId": "41f573e4-207a-43a6-95d9-1495c1579c87"
      },
      "source": [
        "!ls -l | grep .txt | awk '{ SUM+=$5} END {print SUM}' \n",
        "!ls -l | grep .sample | awk '{ SUM+=$5} END {print SUM}' \n",
        "!ls -l | grep .txt | awk '{ SUM+=$2} END {print SUM}' \n",
        "!ls -l | grep .sample | awk '{ SUM+=$2} END {print SUM}'\n",
        "!ls -l | grep .txt | awk '{ SUM+=$7} END {print SUM}' \n",
        "!ls -l | grep .sample | awk '{ SUM+=$7} END {print SUM}'"
      ],
      "execution_count": null,
      "outputs": [
        {
          "output_type": "stream",
          "text": [
            "38\n",
            "4096\n",
            "1\n",
            "1\n",
            "11\n",
            "1\n"
          ],
          "name": "stdout"
        }
      ]
    },
    {
      "cell_type": "code",
      "metadata": {
        "colab": {
          "base_uri": "https://localhost:8080/"
        },
        "id": "r23wGCPHiDii",
        "outputId": "459462a1-e27f-45ed-bd30-97d01ff5a94b"
      },
      "source": [
        "!ls -l | awk '{ SUM+=$1} END {print SUM}' numbers.txt\n",
        "!ls -l | awk '{ SUM+=$2} END {print SUM}' numbers.txt"
      ],
      "execution_count": null,
      "outputs": [
        {
          "output_type": "stream",
          "text": [
            "36\n",
            "272\n"
          ],
          "name": "stdout"
        }
      ]
    },
    {
      "cell_type": "markdown",
      "metadata": {
        "id": "JgVmFNKDGQtw"
      },
      "source": [
        "# **Capturing shell output with bash magic function**\n",
        "\n",
        "Capturing the standard output of shell commands in `IPython` is to use the `bash` magic command with the flag `output`."
      ]
    },
    {
      "cell_type": "code",
      "metadata": {
        "colab": {
          "base_uri": "https://localhost:8080/"
        },
        "id": "j5eec0VYKWhU",
        "outputId": "a772c792-bacf-4fc8-ad74-898152da8c9d"
      },
      "source": [
        "%%bash --out output\n",
        "!ls -l | awk '{ SUM+=$5} END {print SUM}'"
      ],
      "execution_count": null,
      "outputs": [
        {
          "output_type": "execute_result",
          "data": {
            "text/plain": [
              "['4134']"
            ]
          },
          "metadata": {
            "tags": []
          },
          "execution_count": 48
        }
      ]
    },
    {
      "cell_type": "code",
      "metadata": {
        "colab": {
          "base_uri": "https://localhost:8080/",
          "height": 54
        },
        "id": "h-EP08FhgPgz",
        "outputId": "045772fa-dd32-4dda-a978-c5710037b9e8"
      },
      "source": [
        "ls_count = !ls -l | awk '{ SUM+=$5} END {print SUM}'\n",
        "display(type(ls_count))\n",
        "display(ls_count)"
      ],
      "execution_count": null,
      "outputs": [
        {
          "output_type": "display_data",
          "data": {
            "text/plain": [
              "IPython.utils.text.SList"
            ]
          },
          "metadata": {
            "tags": []
          }
        },
        {
          "output_type": "display_data",
          "data": {
            "text/plain": [
              "['4134']"
            ]
          },
          "metadata": {
            "tags": []
          }
        }
      ]
    },
    {
      "cell_type": "markdown",
      "metadata": {
        "id": "mNEH39SqldMN"
      },
      "source": [
        "Below is a command that will create output to `STDERR`\n",
        "  *   `STDERR` isn't captured"
      ]
    },
    {
      "cell_type": "code",
      "metadata": {
        "colab": {
          "base_uri": "https://localhost:8080/"
        },
        "id": "ToNy29J-i2Pm",
        "outputId": "6905ac0f-6225-427c-f3a8-11c38e6898a1"
      },
      "source": [
        "%%bash --out output\n",
        "ls --turbo"
      ],
      "execution_count": null,
      "outputs": [
        {
          "output_type": "stream",
          "text": [
            "ls: unrecognized option '--turbo'\n",
            "Try 'ls --help' for more information.\n"
          ],
          "name": "stderr"
        }
      ]
    },
    {
      "cell_type": "markdown",
      "metadata": {
        "id": "gl4aMUWymlOb"
      },
      "source": [
        "Below, use the `bash` magic function to run a code block, both the `standard output` and the `standard error` are captured in different variables."
      ]
    },
    {
      "cell_type": "code",
      "metadata": {
        "colab": {
          "base_uri": "https://localhost:8080/"
        },
        "id": "jmef5XYylGfE",
        "outputId": "a905955a-5244-4777-8885-0b8b456038d4"
      },
      "source": [
        "%%bash --out output --err error\n",
        "ls -l | awk '{ SUM+=$5} END {print SUM}'\n",
        "echo \"no error so far\" >&2"
      ],
      "execution_count": null,
      "outputs": [
        {
          "output_type": "stream",
          "text": [
            "4134\n",
            "no error so far\n"
          ],
          "name": "stdout"
        }
      ]
    },
    {
      "cell_type": "code",
      "metadata": {
        "id": "oU4vgTljl1Qu"
      },
      "source": [
        "%%bash --out output --err error\n",
        "ls -l | awk '{ SUM+=$5} END {print SUM}'\n",
        "echo \"no error so far\" >&2"
      ],
      "execution_count": null,
      "outputs": []
    },
    {
      "cell_type": "markdown",
      "metadata": {
        "id": "cRoyCxaLsTGB"
      },
      "source": [
        "You can use `%%bash` magic syntax to capture the output of a script in IPython."
      ]
    },
    {
      "cell_type": "code",
      "metadata": {
        "colab": {
          "base_uri": "https://localhost:8080/"
        },
        "id": "b-MvaToMl6xG",
        "outputId": "83d470f5-d08a-43aa-af26-841e699743d4"
      },
      "source": [
        "%%file script.ipy\n",
        "%%bash --out output\n",
        "echo \"Running Directory Audit Script\"\n",
        "CSV=`ls -l test_dir/*.csv | wc -l`\n",
        "TXT=`ls -l test_dir/*.csv | wc -l`\n",
        "echo 'The directory contains this a total # *.csv files: ' $CSV\n",
        "echo 'The directory contains this a total # *.txt files: ' $TXT"
      ],
      "execution_count": null,
      "outputs": [
        {
          "output_type": "stream",
          "text": [
            "Writing script.ipy\n"
          ],
          "name": "stdout"
        }
      ]
    },
    {
      "cell_type": "markdown",
      "metadata": {
        "id": "FSormRxevm_K"
      },
      "source": [
        "The code above `%%bash --out output`, when run, will allow you to run a code block with output stored in the variable output"
      ]
    },
    {
      "cell_type": "code",
      "metadata": {
        "colab": {
          "base_uri": "https://localhost:8080/"
        },
        "id": "-2JAEz4Vv4r9",
        "outputId": "82d93fd5-9c49-445d-804b-24e23dd8bd45"
      },
      "source": [
        "!echo \"Running Directory Audit Script\"\n",
        "CSV= !ls -l *.csv | wc -l\n",
        "TXT= !ls -l *.txt | wc -l\n",
        "!echo 'The directory contains this a total # *.csv files: ' $CSV\n",
        "!echo 'The directory contains this a total # *.txt files: ' $TXT"
      ],
      "execution_count": null,
      "outputs": [
        {
          "output_type": "stream",
          "text": [
            "Running Directory Audit Script\n",
            "The directory contains this a total # *.csv files:  [5]\n",
            "The directory contains this a total # *.txt files:  [6]\n"
          ],
          "name": "stdout"
        }
      ]
    },
    {
      "cell_type": "markdown",
      "metadata": {
        "id": "4aBaKnTayfz2"
      },
      "source": [
        "The `awk` command can be used to filter some patterns. Use the `!` operator to create a command that sums the total size of the files in a directory.\n",
        "Make sure you pipe a command into `awk` using the | operator."
      ]
    },
    {
      "cell_type": "code",
      "metadata": {
        "colab": {
          "base_uri": "https://localhost:8080/"
        },
        "id": "CzSkQUNqx4eX",
        "outputId": "776b56e5-4e61-4f1e-e83a-2b149ca26948"
      },
      "source": [
        "ls -l | awk '{ SUM+=$5} END {print SUM}'"
      ],
      "execution_count": null,
      "outputs": [
        {
          "output_type": "stream",
          "text": [
            "8887\n"
          ],
          "name": "stdout"
        }
      ]
    },
    {
      "cell_type": "markdown",
      "metadata": {
        "id": "wvng5Kh66B0P"
      },
      "source": [
        "#  **SList methods**\n",
        "When output from a shell command is captured in IPython `SList` has the \n",
        "*  `fields` method \n",
        "*  `grep` method \n",
        "*  `sort` method\n",
        "\n",
        "## **SList fields**\n",
        "\n",
        "The `fields` method can simulate the `awk` command. A good example of this is grabbing just the modification datetime for a few ls entries in the output by using the fifth, sixth, and seventh field.\n",
        "\n",
        "   *  พอมาอยู่ใน `field()` index จะนับจาก 0 แต่ตอนเป็น `awk` นับจาก 1"
      ]
    },
    {
      "cell_type": "code",
      "metadata": {
        "colab": {
          "base_uri": "https://localhost:8080/"
        },
        "id": "yMh6VZXzyEsN",
        "outputId": "bfd97362-920b-4acc-9d89-9c51ebf80c78"
      },
      "source": [
        "ls = !ls -l\n",
        "ls.fields(5, 6, 7, 8)[0:4]"
      ],
      "execution_count": null,
      "outputs": [
        {
          "output_type": "execute_result",
          "data": {
            "text/plain": [
              "['Jun 11 15:21 file_0.csv',\n",
              " 'Jun 11 15:21 file_1.txt',\n",
              " 'Jun 11 15:22 file_2.csv',\n",
              " 'Jun 11 15:23 file_3.txt']"
            ]
          },
          "metadata": {
            "tags": []
          },
          "execution_count": 120
        }
      ]
    },
    {
      "cell_type": "markdown",
      "metadata": {
        "id": "Ubh5T-J39WA6"
      },
      "source": [
        "## **SList grep**\n",
        "\n",
        "When you type in a portion of a word or phrase, it will finds matches based on the portion you have typed in."
      ]
    },
    {
      "cell_type": "code",
      "metadata": {
        "colab": {
          "base_uri": "https://localhost:8080/"
        },
        "id": "qvafZzXw7BRt",
        "outputId": "cb5f2e04-5ebf-405b-eff4-9dbd3e945949"
      },
      "source": [
        "ls = !ls -l\n",
        "ls.grep(\".txt\")"
      ],
      "execution_count": null,
      "outputs": [
        {
          "output_type": "execute_result",
          "data": {
            "text/plain": [
              "['-rw-r--r-- 1 root root   12 Jun 11 15:21 file_1.txt',\n",
              " '-rw-r--r-- 1 root root   12 Jun 11 15:23 file_3.txt',\n",
              " '-rw-r--r-- 1 root root   12 Jun 11 15:24 file_5.txt',\n",
              " '-rw-r--r-- 1 root root   12 Jun 11 15:25 file_7.txt',\n",
              " '-rw-r--r-- 1 root root   12 Jun 11 15:25 file_9.txt',\n",
              " '-rw-r--r-- 1 root root   38 Jun 11 14:13 numbers.txt']"
            ]
          },
          "metadata": {
            "tags": []
          },
          "execution_count": 123
        }
      ]
    },
    {
      "cell_type": "markdown",
      "metadata": {
        "id": "APpXfZyX-E_f"
      },
      "source": [
        "The word `kill` is used to find utilities that will kill unix processes."
      ]
    },
    {
      "cell_type": "code",
      "metadata": {
        "colab": {
          "base_uri": "https://localhost:8080/"
        },
        "id": "zu-OYtqb7M5h",
        "outputId": "bfd75dac-d9f8-4ab8-bf17-94a23e529dde"
      },
      "source": [
        "ls = !ls -l\n",
        "ls.grep(\"kill\")"
      ],
      "execution_count": null,
      "outputs": [
        {
          "output_type": "execute_result",
          "data": {
            "text/plain": [
              "[]"
            ]
          },
          "metadata": {
            "tags": []
          },
          "execution_count": 124
        }
      ]
    },
    {
      "cell_type": "markdown",
      "metadata": {
        "id": "h1b1uA4q-aQv"
      },
      "source": [
        "## **SList sort**\n",
        "\n",
        "Perform sorting on the output of a shell command."
      ]
    },
    {
      "cell_type": "code",
      "metadata": {
        "colab": {
          "base_uri": "https://localhost:8080/"
        },
        "id": "0KdBphrs7f9_",
        "outputId": "18d9d418-e116-48cf-fbe3-be475c23c797"
      },
      "source": [
        "disk_usage = !df -h\n",
        "disk_usage"
      ],
      "execution_count": null,
      "outputs": [
        {
          "output_type": "execute_result",
          "data": {
            "text/plain": [
              "['Filesystem      Size  Used Avail Use% Mounted on',\n",
              " 'overlay         108G   39G   70G  36% /',\n",
              " 'tmpfs            64M     0   64M   0% /dev',\n",
              " 'tmpfs           6.4G     0  6.4G   0% /sys/fs/cgroup',\n",
              " 'shm             5.9G     0  5.9G   0% /dev/shm',\n",
              " 'tmpfs           6.4G   28K  6.4G   1% /var/colab',\n",
              " '/dev/sda1       114G   41G   74G  36% /etc/hosts',\n",
              " 'tmpfs           6.4G     0  6.4G   0% /proc/acpi',\n",
              " 'tmpfs           6.4G     0  6.4G   0% /proc/scsi',\n",
              " 'tmpfs           6.4G     0  6.4G   0% /sys/firmware']"
            ]
          },
          "metadata": {
            "tags": []
          },
          "execution_count": 127
        }
      ]
    },
    {
      "cell_type": "markdown",
      "metadata": {
        "id": "mU0qShhr_jsk"
      },
      "source": [
        "*  The first argument in `SList.sort()` is which column to sort on. For example, the Size or the Used column. \n",
        "*  The second argument is whether to sort by alphabetical or numerical values."
      ]
    },
    {
      "cell_type": "code",
      "metadata": {
        "colab": {
          "base_uri": "https://localhost:8080/"
        },
        "id": "SuHF4G9C-rHX",
        "outputId": "7681e65f-2344-40e8-b650-bd970bd729e7"
      },
      "source": [
        "disk_usage.sort(5, nums = True)"
      ],
      "execution_count": null,
      "outputs": [
        {
          "output_type": "execute_result",
          "data": {
            "text/plain": [
              "['/dev/sda1       114G   41G   74G  36% /etc/hosts',\n",
              " 'Filesystem      Size  Used Avail Use% Mounted on',\n",
              " 'overlay         108G   39G   70G  36% /',\n",
              " 'shm             5.9G     0  5.9G   0% /dev/shm',\n",
              " 'tmpfs            64M     0   64M   0% /dev',\n",
              " 'tmpfs           6.4G     0  6.4G   0% /proc/acpi',\n",
              " 'tmpfs           6.4G     0  6.4G   0% /proc/scsi',\n",
              " 'tmpfs           6.4G     0  6.4G   0% /sys/firmware',\n",
              " 'tmpfs           6.4G     0  6.4G   0% /sys/fs/cgroup',\n",
              " 'tmpfs           6.4G   28K  6.4G   1% /var/colab']"
            ]
          },
          "metadata": {
            "tags": []
          },
          "execution_count": 133
        }
      ]
    },
    {
      "cell_type": "markdown",
      "metadata": {
        "id": "4y74jsKpDHWA"
      },
      "source": [
        "### **Use SList fields to parse shell output**\n",
        "*  Extract the display of the free disk usage and store it in disk_space.\n",
        "*  Use the `.fields()` method on disk_space to select the column that shows total size of the mounted volumes."
      ]
    },
    {
      "cell_type": "code",
      "metadata": {
        "colab": {
          "base_uri": "https://localhost:8080/"
        },
        "id": "rm1-xyjsARn-",
        "outputId": "5164cab2-c028-493c-f366-e7e02585b3bd"
      },
      "source": [
        "disk_space = !df -h\n",
        "print(disk_space.fields(0))"
      ],
      "execution_count": null,
      "outputs": [
        {
          "output_type": "stream",
          "text": [
            "['Filesystem', 'overlay', 'tmpfs', 'tmpfs', 'shm', 'tmpfs', '/dev/sda1', 'tmpfs', 'tmpfs', 'tmpfs']\n"
          ],
          "name": "stdout"
        }
      ]
    },
    {
      "cell_type": "markdown",
      "metadata": {
        "id": "hG20HbtiEGJ-"
      },
      "source": [
        "### **Find Python files using SLIST grep**\n",
        "\n",
        "* using the SList `.grep()` method to filter for files only containing the pattern `.py`"
      ]
    },
    {
      "cell_type": "code",
      "metadata": {
        "colab": {
          "base_uri": "https://localhost:8080/"
        },
        "id": "fSeHKSlCDXFx",
        "outputId": "5147ef4e-7230-4725-c4fa-77488a6b1d58"
      },
      "source": [
        "res = !ls  # ถ้าต้องการหาในไหนให้ใส่ directory หลังจาก !ls\n",
        "print(res.grep(\".py\"))"
      ],
      "execution_count": null,
      "outputs": [
        {
          "output_type": "stream",
          "text": [
            "['file_0.csv  file_3.txt\\tfile_6.csv  file_9.txt\\t script.ipy', 'file_1.txt  file_4.csv\\tfile_7.txt  numbers.txt  script.py']\n"
          ],
          "name": "stdout"
        }
      ]
    },
    {
      "cell_type": "markdown",
      "metadata": {
        "id": "E9OJ48Z3GWZg"
      },
      "source": [
        "ทำไม ใช้ไม่ได้ ?"
      ]
    },
    {
      "cell_type": "code",
      "metadata": {
        "colab": {
          "base_uri": "https://localhost:8080/"
        },
        "id": "ofvIa2GYFqeb",
        "outputId": "2a719b17-6f65-45f6-a0f0-4c294527fe02"
      },
      "source": [
        "res = !ls -l\n",
        "print(res.grep('.py'))"
      ],
      "execution_count": null,
      "outputs": [
        {
          "output_type": "stream",
          "text": [
            "['-rw-r--r-- 1 root root  255 Jun 11 15:45 script.ipy', '-rw-r--r-- 1 root root  262 Jun 11 15:43 script.py']\n"
          ],
          "name": "stdout"
        }
      ]
    },
    {
      "cell_type": "markdown",
      "metadata": {
        "id": "UVv0inOqHsC-"
      },
      "source": [
        "### **Using SList to grep**\n",
        "\n"
      ]
    },
    {
      "cell_type": "code",
      "metadata": {
        "colab": {
          "base_uri": "https://localhost:8080/"
        },
        "id": "nj86jcbyF6jm",
        "outputId": "5c6cfe57-9d9c-48e6-daf9-7b41eea10f45"
      },
      "source": [
        "  import os\n",
        "  help(os.path.join)"
      ],
      "execution_count": null,
      "outputs": [
        {
          "output_type": "stream",
          "text": [
            "Help on function join in module posixpath:\n",
            "\n",
            "join(a, *p)\n",
            "    Join two or more pathname components, inserting '/' as needed.\n",
            "    If any component is an absolute path, all previous path components\n",
            "    will be discarded.  An empty last part will result in a path that\n",
            "    ends with a separator.\n",
            "\n"
          ],
          "name": "stdout"
        }
      ]
    },
    {
      "cell_type": "code",
      "metadata": {
        "colab": {
          "base_uri": "https://localhost:8080/"
        },
        "id": "jrW3bYW-IikF",
        "outputId": "c158ce3f-01fc-448d-a3d7-10f404a2cefb"
      },
      "source": [
        "%%file slist_out.py\n",
        "\n",
        "from subprocess import (Popen, PIPE)\n",
        "import subprocess\n",
        "from IPython.utils.text import SList\n",
        "\n",
        "root = \"/content\"\n",
        "\n",
        "p = subprocess.Popen([\"ls\", \"-l\", root], stdout=subprocess.PIPE)\n",
        "bytes_out = p.stdout.readlines()\n",
        "out = []\n",
        "for line in bytes_out:\n",
        "\tout.append(line.decode(\".csv\"))\n",
        "    \n",
        "slist_out = SList(out)\n"
      ],
      "execution_count": null,
      "outputs": [
        {
          "output_type": "stream",
          "text": [
            "Overwriting slist_out.py\n"
          ],
          "name": "stdout"
        }
      ]
    },
    {
      "cell_type": "code",
      "metadata": {
        "id": "JnmEzp5DJ2-V"
      },
      "source": [
        "import os\n",
        "from slist_out import slist_out\n",
        "\n",
        "# Save the name of the root directory\n",
        "root = \"content\"\n",
        "\n",
        "# Find the backups with \"_2\" in slist_out\n",
        "result = slist_out.grep(\".csv\")\n",
        "\n",
        "# Extract the filenames\n",
        "for res in result:\n",
        "\tfilename = res.split()[-1]\n",
        "    \n",
        "\t# Create the full path\n",
        "\tfullpath = os.path.join(root, filename)\n",
        "\tprint(f\"fullpath of backup file: {fullpath}\")\n",
        "    \n"
      ],
      "execution_count": null,
      "outputs": []
    },
    {
      "cell_type": "markdown",
      "metadata": {
        "id": "9EFl8YjolBH-"
      },
      "source": [
        "#  **Using `subprocess.run`**\n",
        "\n",
        "`subprocess.run()` takes a list of strings and runs a command without capturing the output."
      ]
    },
    {
      "cell_type": "code",
      "metadata": {
        "id": "K13Xdmk8Kasn",
        "colab": {
          "base_uri": "https://localhost:8080/"
        },
        "outputId": "21fa7706-f87b-41cb-aecc-c8daef2dbdfa"
      },
      "source": [
        "import subprocess\n",
        "subprocess.run([\"ls\", \"-l\"])"
      ],
      "execution_count": null,
      "outputs": [
        {
          "output_type": "execute_result",
          "data": {
            "text/plain": [
              "CompletedProcess(args=['ls', '-l'], returncode=0)"
            ]
          },
          "metadata": {
            "tags": []
          },
          "execution_count": 17
        }
      ]
    },
    {
      "cell_type": "markdown",
      "metadata": {
        "id": "-cMNZifMqXud"
      },
      "source": [
        "### **`Bytes` string are default in subprocess**."
      ]
    },
    {
      "cell_type": "code",
      "metadata": {
        "colab": {
          "base_uri": "https://localhost:8080/"
        },
        "id": "hoA2NE0MpVoP",
        "outputId": "2afb96e9-b6b8-45c2-bf5f-15c468b247e4"
      },
      "source": [
        "res = b'repl 24 0.0 0.0 36072 3144 pts/0 R+ 03:15 0:00 ps aux\\n'\n",
        "print(type(res))\n",
        "print(res)"
      ],
      "execution_count": null,
      "outputs": [
        {
          "output_type": "stream",
          "text": [
            "<class 'bytes'>\n",
            "b'repl 24 0.0 0.0 36072 3144 pts/0 R+ 03:15 0:00 ps aux\\n'\n"
          ],
          "name": "stdout"
        }
      ]
    },
    {
      "cell_type": "markdown",
      "metadata": {
        "id": "vvDiM4HsqrrA"
      },
      "source": [
        "When dealing with byte strings, they will need to be `decoded` in many cases to process them further. "
      ]
    },
    {
      "cell_type": "code",
      "metadata": {
        "colab": {
          "base_uri": "https://localhost:8080/"
        },
        "id": "ZR6sZ8z4p76V",
        "outputId": "b9ab5dc0-9ffd-4319-8338-cdec3ce9a034"
      },
      "source": [
        "res = b'repl 24 0.0 0.0 36072 3144 pts/0 R+ 03:15 0:00 ps aux\\n'\n",
        "regular_string = res.decode(\"utf-8\")\n",
        "print(type(regular_string))\n",
        "print(regular_string)"
      ],
      "execution_count": null,
      "outputs": [
        {
          "output_type": "stream",
          "text": [
            "<class 'str'>\n",
            "repl 24 0.0 0.0 36072 3144 pts/0 R+ 03:15 0:00 ps aux\n",
            "\n"
          ],
          "name": "stdout"
        }
      ]
    },
    {
      "cell_type": "markdown",
      "metadata": {
        "id": "X9hcS3v1s52W"
      },
      "source": [
        "# **Unix status codes**\n",
        "\n",
        "*   Unix commands return a status code that represents the status of their completion. \n",
        "*   If a command exits with a ***zero*** status, it was successful.\n",
        "*   If a command exits with ***non-zero*** status it has failed. \n",
        "\n",
        "The value of the status code of the last command run can be printed to standard out by using the `echo` command along with `$` sign and question mark."
      ]
    },
    {
      "cell_type": "code",
      "metadata": {
        "colab": {
          "base_uri": "https://localhost:8080/"
        },
        "id": "yYSw2_DTq_EC",
        "outputId": "ca39373a-d64c-44ae-fb9a-44804353a6c4"
      },
      "source": [
        "!ls -l\n",
        "!echo $?\n",
        "\n",
        "!ls --bogus-flag\n",
        "!echo $?"
      ],
      "execution_count": null,
      "outputs": [
        {
          "output_type": "stream",
          "text": [
            "total 16\n",
            "-rw-r--r-- 1 root root  643 Jun 12 14:12 aa.md\n",
            "-rw-r--r-- 1 root root    3 Jun 12 14:13 f_0.txt\n",
            "drwxr-xr-x 1 root root 4096 Jun 12 14:16 sample_data\n",
            "-rw-r--r-- 1 root root  643 Jun 12 14:13 sample_data.md\n",
            "0\n",
            "ls: unrecognized option '--bogus-flag'\n",
            "Try 'ls --help' for more information.\n",
            "0\n"
          ],
          "name": "stdout"
        }
      ]
    },
    {
      "cell_type": "markdown",
      "metadata": {
        "id": "iVeQHrOOujEh"
      },
      "source": [
        "# **Execute shell commands in subprocess**\n",
        "\n",
        "*  When running a command with `subprocess.run()` the status code of the unix shell command can be captured and inspected.\n",
        "\n",
        "*  This is accomplished via the `CompletedProcess` object.\n",
        "*  This object contains not only the `returncode`, or `exit status` of the child process, but also the `arguments` used to launch the process.\n",
        "\n"
      ]
    },
    {
      "cell_type": "code",
      "metadata": {
        "colab": {
          "base_uri": "https://localhost:8080/",
          "height": 54
        },
        "id": "hklsPs0-t3ls",
        "outputId": "31be74c1-7aaa-4f0c-d26f-72c2eced2bd6"
      },
      "source": [
        "import subprocess\n",
        "out = subprocess.run([\"ls\", \"-l\"])\n",
        "display(out)\n",
        "print(out.returncode)"
      ],
      "execution_count": null,
      "outputs": [
        {
          "output_type": "display_data",
          "data": {
            "text/plain": [
              "CompletedProcess(args=['ls', '-l'], returncode=0)"
            ]
          },
          "metadata": {
            "tags": []
          }
        },
        {
          "output_type": "stream",
          "text": [
            "0\n"
          ],
          "name": "stdout"
        }
      ]
    },
    {
      "cell_type": "markdown",
      "metadata": {
        "id": "FtToWLvFwTMo"
      },
      "source": [
        "# **Non-zero status codes in `subprocess.run`**\n",
        "\n",
        "A non-zero exit code of one is returned because the `ls` command was passed an argument `turbo` that doesn't exist.\n",
        "\n"
      ]
    },
    {
      "cell_type": "code",
      "metadata": {
        "colab": {
          "base_uri": "https://localhost:8080/"
        },
        "id": "g6fcvM2UvB6c",
        "outputId": "bc1e1a2f-08f3-442b-e134-b2faf7fb62ea"
      },
      "source": [
        "import subprocess\n",
        "bad_out = subprocess.run([\"ls\", \"--turbo\"])\n",
        "print(bad_out.returncode)"
      ],
      "execution_count": null,
      "outputs": [
        {
          "output_type": "stream",
          "text": [
            "2\n"
          ],
          "name": "stdout"
        }
      ]
    },
    {
      "cell_type": "markdown",
      "metadata": {
        "id": "0tKaeGsbyAP0"
      },
      "source": [
        "### **Permission check**\n",
        "\n",
        "You want to verify that when the network filesystem is mounted on a new system, each worker node is able to create files with the correct permissions.\n",
        "\n",
        "*   Import the **subprocess** and `os` packages.\n",
        "*   Write a script that will use the Unix `touch` command in `subprocess.Popen` to create a file.\n",
        "*   Then use the `os.stat` module to check the correct `uid` was created on the file.\n",
        "If the correct `uid` was created, print out a success message."
      ]
    },
    {
      "cell_type": "code",
      "metadata": {
        "colab": {
          "base_uri": "https://localhost:8080/"
        },
        "id": "ouDZwNVKxESU",
        "outputId": "4f06fd31-06a4-4c36-a911-44e08e347398"
      },
      "source": [
        "# Import packages\n",
        "import subprocess\n",
        "import os\n",
        "\n",
        "# Setup\n",
        "file_location = \"/content/file_1.txt\"\n",
        "expected_uid = 1000\n",
        "\n",
        "# Create a file\n",
        "proc = subprocess.Popen([\"touch\", file_location])\n",
        "\n",
        "# Check user permissions\n",
        "stat = os.stat(file_location)\n",
        "if stat.st_uid == expected_uid:\n",
        "    print(f\"File System exported properly: {expected_uid} == {stat.st_uid}\")\n",
        "else:\n",
        "    print(f\"File System NOT exported properly: {expected_uid} != {stat.st_uid}\")\n"
      ],
      "execution_count": null,
      "outputs": [
        {
          "output_type": "stream",
          "text": [
            "File System NOT exported properly: 1000 != 0\n"
          ],
          "name": "stdout"
        }
      ]
    },
    {
      "cell_type": "code",
      "metadata": {
        "id": "iGhk-vmH0C9a"
      },
      "source": [
        "# Generate poem.txt\n",
        "with open('poem.txt', 'w') as f:\n",
        "    for i in range(1000):\n",
        "        f.write(\"All work and no play makes Jack a dull boy.\\n\")"
      ],
      "execution_count": null,
      "outputs": []
    },
    {
      "cell_type": "markdown",
      "metadata": {
        "id": "zlbuEuai-ugB"
      },
      "source": [
        "### **Reading a creepy AI poem**\n",
        "*   The Unix command `head` will read the first few lines. \n",
        "*   The Unix command `wc -w` will count the total number of words. \n",
        "*   The name of the poem is called `poem.txt`.\n",
        "*   Use `subprocess.Popen` to run each of these shell commands print the results. You must pass `stdout=subprocess.PIPE` into `Popen` to capture the output of `wc`.\n",
        "  *   Print the first few lines of `/content/poem.txt` using `head`.\n",
        "  *   Count the total words in `/content/poem.txt` using `wc -w` and print out the total.\n",
        "  *   Safely execute these commands by passing them in as items in a list."
      ]
    },
    {
      "cell_type": "code",
      "metadata": {
        "colab": {
          "base_uri": "https://localhost:8080/"
        },
        "id": "qfgFTHhK8-eK",
        "outputId": "36c84cc9-8561-4b2f-faa8-69f8de01f434"
      },
      "source": [
        "import subprocess\n",
        "\n",
        "# Execute Unix command `head` safely as items in a list\n",
        "with subprocess.Popen([\"head\", \"/content/poem.txt\"], stdout=subprocess.PIPE) as head:\n",
        "  \n",
        "    # Print each line of list returned by `stdout.readlines()`\n",
        "    for line in head.stdout.readlines():\n",
        "        print(line)\n",
        "    \n",
        "# Execute Unix command `wc -c` safely as items in a list\n",
        "with subprocess.Popen([\"wc\", \"-c\", \"/content/poem.txt\"], stdout=subprocess.PIPE) as word_count:\n",
        "  \n",
        "    # Print the string output of standard out of `wc -c`\n",
        "    print(word_count.stdout.read())\n"
      ],
      "execution_count": null,
      "outputs": [
        {
          "output_type": "stream",
          "text": [
            "b'All work and no play makes Jack a dull boy.\\n'\n",
            "b'All work and no play makes Jack a dull boy.\\n'\n",
            "b'All work and no play makes Jack a dull boy.\\n'\n",
            "b'All work and no play makes Jack a dull boy.\\n'\n",
            "b'All work and no play makes Jack a dull boy.\\n'\n",
            "b'All work and no play makes Jack a dull boy.\\n'\n",
            "b'All work and no play makes Jack a dull boy.\\n'\n",
            "b'All work and no play makes Jack a dull boy.\\n'\n",
            "b'All work and no play makes Jack a dull boy.\\n'\n",
            "b'All work and no play makes Jack a dull boy.\\n'\n",
            "b'44000 /content/poem.txt\\n'\n"
          ],
          "name": "stdout"
        }
      ]
    },
    {
      "cell_type": "markdown",
      "metadata": {
        "id": "ia0Fqx2bB0p6"
      },
      "source": [
        "### **Running processes script**\n",
        "\n",
        "Write a script using `subprocess.run` and `ps aux` that discards all CPU output with the string 'python' in it. This will hide your secret Python scripts.\n",
        "\n",
        "*   Use `subprocess.run` to execute `ps aux`.\n",
        "*   Discard lines with `'python'` in them.\n",
        "*   Print out all other lines."
      ]
    },
    {
      "cell_type": "code",
      "metadata": {
        "colab": {
          "base_uri": "https://localhost:8080/"
        },
        "id": "l-agaBmgAe2w",
        "outputId": "3c28d06a-7a70-4fbf-d807-2c72b0a220c9"
      },
      "source": [
        "import subprocess\n",
        "\n",
        "# Use subprocess to run the `ps aux` command that lists running processes\n",
        "with subprocess.Popen([\"ps\", \"aux\"], stdout=subprocess.PIPE) as proc:\n",
        "    process_output = proc.stdout.readlines()\n",
        "    \n",
        "# Look through each line in the output and skip it if it contains \"python\"\n",
        "for line in process_output:\n",
        "    if b\"python\" in line:\n",
        "        continue\n",
        "    print(line)\n"
      ],
      "execution_count": null,
      "outputs": [
        {
          "output_type": "stream",
          "text": [
            "b'USER         PID %CPU %MEM    VSZ   RSS TTY      STAT START   TIME COMMAND\\n'\n",
            "b'root           1  0.1  0.4 347492 57092 ?        Ssl  13:12   0:07 /tools/node/bin/node /datalab/web/app.js\\n'\n",
            "b'root          16  0.0  0.0  35888  4764 ?        Ss   13:12   0:00 tail -n +0 -F /root/.config/Google/DriveFS/Logs/dpb.txt /root/.config/Google/DriveFS/Logs/drive_fs.txt\\n'\n",
            "b'root          50  0.0  0.0 710124  8496 ?        Sl   13:12   0:02 /usr/local/bin/dap_multiplexer --domain_socket_path=/tmp/debugger_resm0z4z8\\n'\n",
            "b'root        1075  0.0  0.0  59040  6240 ?        R    14:46   0:00 ps aux\\n'\n"
          ],
          "name": "stdout"
        }
      ]
    },
    {
      "cell_type": "markdown",
      "metadata": {
        "id": "y8UWfnbCED9P"
      },
      "source": [
        "This is what it looks like if we do not skip the line with `'python'`."
      ]
    },
    {
      "cell_type": "code",
      "metadata": {
        "colab": {
          "base_uri": "https://localhost:8080/"
        },
        "id": "X90wI5wZC8qG",
        "outputId": "10d2a08e-1589-4896-8cd2-c8c28c85cbe9"
      },
      "source": [
        "for line in process_output:\n",
        "    print(line)"
      ],
      "execution_count": null,
      "outputs": [
        {
          "output_type": "stream",
          "text": [
            "b'USER         PID %CPU %MEM    VSZ   RSS TTY      STAT START   TIME COMMAND\\n'\n",
            "b'root           1  0.1  0.4 347492 57092 ?        Ssl  13:12   0:07 /tools/node/bin/node /datalab/web/app.js\\n'\n",
            "b'root          16  0.0  0.0  35888  4764 ?        Ss   13:12   0:00 tail -n +0 -F /root/.config/Google/DriveFS/Logs/dpb.txt /root/.config/Google/DriveFS/Logs/drive_fs.txt\\n'\n",
            "b'root          49  0.1  0.4 195440 61144 ?        Sl   13:12   0:07 /usr/bin/python2 /usr/local/bin/jupyter-notebook --ip=\"172.28.0.2\" --port=9000 --FileContentsManager.root_dir=\"/\" --MappingKernelManager.root_dir=\"/content\"\\n'\n",
            "b'root          50  0.0  0.0 710124  8496 ?        Sl   13:12   0:02 /usr/local/bin/dap_multiplexer --domain_socket_path=/tmp/debugger_resm0z4z8\\n'\n",
            "b'root          81  0.0  0.0      0     0 ?        Z    13:13   0:02 [python3] <defunct>\\n'\n",
            "b'root         574  0.1  0.0      0     0 ?        Z    14:16   0:01 [python3] <defunct>\\n'\n",
            "b'root         824  0.6  0.8 702528 118556 ?       Ssl  14:34   0:04 /usr/bin/python3 -m ipykernel_launcher -f /root/.local/share/jupyter/runtime/kernel-2328eaa1-d2b5-46ef-b2e0-a4708c98bd05.json\\n'\n",
            "b'root         842  0.0  0.1 127644 14884 ?        Sl   14:34   0:00 /usr/bin/python3 /usr/local/lib/python3.7/dist-packages/debugpy/adapter --for-server 37265 --host 127.0.0.1 --port 23071 --server-access-token f89e56849a3132bf529d62b957a0325d5ac813859c9a8a3387b2b4a92a753895\\n'\n",
            "b'root        1075  0.0  0.0  59040  6240 ?        R    14:46   0:00 ps aux\\n'\n"
          ],
          "name": "stdout"
        }
      ]
    },
    {
      "cell_type": "markdown",
      "metadata": {
        "id": "I1PpttRLW4i-"
      },
      "source": [
        "# **Capture output of shell commands using the `subprocess.Popen` module**\n",
        "\n",
        "*  Import `Popen` and `PIPE` from `subprocess`. \n",
        "*  You will set the `stdout` parameter to use `PIPE`, which allows input to be captured. \n",
        "*  Next use `Popen` to capture the output and store the output into the result variable as a list.\n",
        "\n"
      ]
    },
    {
      "cell_type": "code",
      "metadata": {
        "colab": {
          "base_uri": "https://localhost:8080/"
        },
        "id": "KG9Qwb8HERFO",
        "outputId": "1238793b-c3a6-4eb4-d5f0-df9ec766cf56"
      },
      "source": [
        "from subprocess import Popen, PIPE\n",
        "\n",
        "with Popen([\"ls\"], stdout=PIPE) as proc:\n",
        "    out = proc.stdout.readlines()\n",
        "print(out)  "
      ],
      "execution_count": null,
      "outputs": [
        {
          "output_type": "stream",
          "text": [
            "[b'aa.md\\n', b'f_0.txt\\n', b'file_1.txt\\n', b'poem.txt\\n', b'sample_data\\n', b'sample_data.md\\n']\n"
          ],
          "name": "stdout"
        }
      ]
    },
    {
      "cell_type": "markdown",
      "metadata": {
        "id": "FVGteLJBZNMP"
      },
      "source": [
        "# **`subprocess.Popen.communicate()`**\n",
        "\n",
        "*  Below you can see how it is used to communicate with both `stdout` and `stderr` by waiting for up to 30 seconds. \n",
        "*  If it exceeds this duration it will throw an Exception. \n",
        "*  This Exception, `TimeoutExpired` can be caught and then a code block can perform some other action like \n",
        "  *  killing the process, \n",
        "  *  cleaning up resources used or \n",
        "  *  other business logic. "
      ]
    },
    {
      "cell_type": "code",
      "metadata": {
        "colab": {
          "base_uri": "https://localhost:8080/"
        },
        "id": "LEnSPHP_XWU6",
        "outputId": "6e0dcf2a-6ddd-4181-db98-ea297d4eecb1"
      },
      "source": [
        "from subprocess import Popen, PIPE\n",
        "proc = Popen([\"ls\"], stdout=PIPE)\n",
        "# Attempt to communicate for up to 30 seconds\n",
        "try:\n",
        "    out, err = proc.communicate(timeout=30)\n",
        "except TimeoutExpired:\n",
        "# kill the process since a timeout was triggered\n",
        "    proc.kill()\n",
        "# capture both standard output and standard error\n",
        "    out, error = proc.communicate()\n",
        "    \n",
        "print(out)\n",
        "print(err)"
      ],
      "execution_count": null,
      "outputs": [
        {
          "output_type": "stream",
          "text": [
            "b'aa.md\\nf_0.txt\\nfile_1.txt\\npoem.txt\\nsample_data\\nsample_data.md\\n'\n",
            "None\n"
          ],
          "name": "stdout"
        }
      ]
    },
    {
      "cell_type": "markdown",
      "metadata": {
        "id": "NwY2e9MHazFh"
      },
      "source": [
        "#  **`subprocess.PIPE()`**\n",
        "\n",
        "*  subprocess.PIPE() is required for capturing the output\n",
        "\n",
        "#  **Required components of `subprocess.Popen`**\n",
        "\n",
        "*  `stdout.read()` : returns output as a string\n",
        "*   `stdout.readlines()` : returns outputs as an interator\n",
        "\n",
        "### **Optional `stderr`**"
      ]
    },
    {
      "cell_type": "code",
      "metadata": {
        "colab": {
          "base_uri": "https://localhost:8080/"
        },
        "id": "SFxDHhylahTL",
        "outputId": "45235a59-e863-461f-d4f0-75b468e6c59e"
      },
      "source": [
        "from subprocess import Popen, PIPE\n",
        "\n",
        "with Popen([\"ls\", \"/a/bad/path\"], stdout=PIPE, stderr=PIPE) as proc:\n",
        "    print(proc.stderr.read())"
      ],
      "execution_count": null,
      "outputs": [
        {
          "output_type": "stream",
          "text": [
            "b\"ls: cannot access '/a/bad/path': No such file or directory\\n\"\n"
          ],
          "name": "stdout"
        }
      ]
    },
    {
      "cell_type": "markdown",
      "metadata": {
        "id": "agdGZB4zeqR3"
      },
      "source": [
        "### **Using subprocess Popen**\n",
        "\n",
        "Use `subprocess.Popen()`, and the bash command `pip list --format=json` command, to find all of the installed packages. Because the `pip` tool emits `JSON` data, you can use `json.loads()` to convert `JSON` data to a Python dictionary.\n",
        "\n",
        "*  Use the `with` context manager to run `subprocess.Popen()`.\n",
        "*  Pipe the output of `subprocess.Popen()` to stdout as an iterator.\n",
        "*  Convert the JSON payload to a Python dictionary with `json.loads` after extracting the only element of the `results` list.\n",
        "*  Print the result using the `pprint` function of the `pprint` package."
      ]
    },
    {
      "cell_type": "code",
      "metadata": {
        "colab": {
          "base_uri": "https://localhost:8080/"
        },
        "id": "PUgHD0WscR3q",
        "outputId": "7ce8879c-1165-4f59-d29c-e67d2a085417"
      },
      "source": [
        "from subprocess import Popen, PIPE\n",
        "import json\n",
        "import pprint\n",
        "\n",
        "# Use the with context manager to run subprocess.Popen()\n",
        "with Popen([\"pip\",\"list\",\"--format=json\"], stdout=PIPE) as proc:\n",
        "  # Pipe the output of subprocess.Popen() to stdout\n",
        "    result = proc.stdout.readlines()\n",
        "  \n",
        "# Convert the JSON payload to a Python dictionary\n",
        "# JSON is a datastructure similar to a Python dictionary\n",
        "converted_result = json.loads(result[0])\n",
        "\n",
        "# Display the result in the IPython terminal\n",
        "pprint.pprint(converted_result)"
      ],
      "execution_count": null,
      "outputs": [
        {
          "output_type": "stream",
          "text": [
            "[{'name': 'absl-py', 'version': '0.12.0'},\n",
            " {'name': 'alabaster', 'version': '0.7.12'},\n",
            " {'name': 'albumentations', 'version': '0.1.12'},\n",
            " {'name': 'altair', 'version': '4.1.0'},\n",
            " {'name': 'appdirs', 'version': '1.4.4'},\n",
            " {'name': 'argon2-cffi', 'version': '20.1.0'},\n",
            " {'name': 'arviz', 'version': '0.11.2'},\n",
            " {'name': 'astor', 'version': '0.8.1'},\n",
            " {'name': 'astropy', 'version': '4.2.1'},\n",
            " {'name': 'astunparse', 'version': '1.6.3'},\n",
            " {'name': 'async-generator', 'version': '1.10'},\n",
            " {'name': 'atari-py', 'version': '0.2.9'},\n",
            " {'name': 'atomicwrites', 'version': '1.4.0'},\n",
            " {'name': 'attrs', 'version': '21.2.0'},\n",
            " {'name': 'audioread', 'version': '2.1.9'},\n",
            " {'name': 'autograd', 'version': '1.3'},\n",
            " {'name': 'Babel', 'version': '2.9.1'},\n",
            " {'name': 'backcall', 'version': '0.2.0'},\n",
            " {'name': 'beautifulsoup4', 'version': '4.6.3'},\n",
            " {'name': 'bleach', 'version': '3.3.0'},\n",
            " {'name': 'blis', 'version': '0.4.1'},\n",
            " {'name': 'bokeh', 'version': '2.3.2'},\n",
            " {'name': 'Bottleneck', 'version': '1.3.2'},\n",
            " {'name': 'branca', 'version': '0.4.2'},\n",
            " {'name': 'bs4', 'version': '0.0.1'},\n",
            " {'name': 'CacheControl', 'version': '0.12.6'},\n",
            " {'name': 'cached-property', 'version': '1.5.2'},\n",
            " {'name': 'cachetools', 'version': '4.2.2'},\n",
            " {'name': 'catalogue', 'version': '1.0.0'},\n",
            " {'name': 'certifi', 'version': '2020.12.5'},\n",
            " {'name': 'cffi', 'version': '1.14.5'},\n",
            " {'name': 'cftime', 'version': '1.5.0'},\n",
            " {'name': 'chainer', 'version': '7.4.0'},\n",
            " {'name': 'chardet', 'version': '3.0.4'},\n",
            " {'name': 'click', 'version': '7.1.2'},\n",
            " {'name': 'cloudpickle', 'version': '1.3.0'},\n",
            " {'name': 'cmake', 'version': '3.12.0'},\n",
            " {'name': 'cmdstanpy', 'version': '0.9.5'},\n",
            " {'name': 'colorcet', 'version': '2.0.6'},\n",
            " {'name': 'colorlover', 'version': '0.3.0'},\n",
            " {'name': 'community', 'version': '1.0.0b1'},\n",
            " {'name': 'contextlib2', 'version': '0.5.5'},\n",
            " {'name': 'convertdate', 'version': '2.3.2'},\n",
            " {'name': 'coverage', 'version': '3.7.1'},\n",
            " {'name': 'coveralls', 'version': '0.5'},\n",
            " {'name': 'crcmod', 'version': '1.7'},\n",
            " {'name': 'cufflinks', 'version': '0.17.3'},\n",
            " {'name': 'cvxopt', 'version': '1.2.6'},\n",
            " {'name': 'cvxpy', 'version': '1.0.31'},\n",
            " {'name': 'cycler', 'version': '0.10.0'},\n",
            " {'name': 'cymem', 'version': '2.0.5'},\n",
            " {'name': 'Cython', 'version': '0.29.23'},\n",
            " {'name': 'daft', 'version': '0.0.4'},\n",
            " {'name': 'dask', 'version': '2.12.0'},\n",
            " {'name': 'datascience', 'version': '0.10.6'},\n",
            " {'name': 'debugpy', 'version': '1.0.0'},\n",
            " {'name': 'decorator', 'version': '4.4.2'},\n",
            " {'name': 'defusedxml', 'version': '0.7.1'},\n",
            " {'name': 'descartes', 'version': '1.1.0'},\n",
            " {'name': 'dill', 'version': '0.3.3'},\n",
            " {'name': 'distributed', 'version': '1.25.3'},\n",
            " {'name': 'dlib', 'version': '19.18.0'},\n",
            " {'name': 'dm-tree', 'version': '0.1.6'},\n",
            " {'name': 'docopt', 'version': '0.6.2'},\n",
            " {'name': 'docutils', 'version': '0.17.1'},\n",
            " {'name': 'dopamine-rl', 'version': '1.0.5'},\n",
            " {'name': 'earthengine-api', 'version': '0.1.266'},\n",
            " {'name': 'easydict', 'version': '1.9'},\n",
            " {'name': 'ecos', 'version': '2.0.7.post1'},\n",
            " {'name': 'editdistance', 'version': '0.5.3'},\n",
            " {'name': 'en-core-web-sm', 'version': '2.2.5'},\n",
            " {'name': 'entrypoints', 'version': '0.3'},\n",
            " {'name': 'ephem', 'version': '3.7.7.1'},\n",
            " {'name': 'et-xmlfile', 'version': '1.1.0'},\n",
            " {'name': 'fa2', 'version': '0.3.5'},\n",
            " {'name': 'fastai', 'version': '1.0.61'},\n",
            " {'name': 'fastdtw', 'version': '0.3.4'},\n",
            " {'name': 'fastprogress', 'version': '1.0.0'},\n",
            " {'name': 'fastrlock', 'version': '0.6'},\n",
            " {'name': 'fbprophet', 'version': '0.7.1'},\n",
            " {'name': 'feather-format', 'version': '0.4.1'},\n",
            " {'name': 'filelock', 'version': '3.0.12'},\n",
            " {'name': 'firebase-admin', 'version': '4.4.0'},\n",
            " {'name': 'fix-yahoo-finance', 'version': '0.0.22'},\n",
            " {'name': 'Flask', 'version': '1.1.4'},\n",
            " {'name': 'flatbuffers', 'version': '1.12'},\n",
            " {'name': 'folium', 'version': '0.8.3'},\n",
            " {'name': 'future', 'version': '0.16.0'},\n",
            " {'name': 'gast', 'version': '0.4.0'},\n",
            " {'name': 'GDAL', 'version': '2.2.2'},\n",
            " {'name': 'gdown', 'version': '3.6.4'},\n",
            " {'name': 'gensim', 'version': '3.6.0'},\n",
            " {'name': 'geographiclib', 'version': '1.50'},\n",
            " {'name': 'geopy', 'version': '1.17.0'},\n",
            " {'name': 'gin-config', 'version': '0.4.0'},\n",
            " {'name': 'glob2', 'version': '0.7'},\n",
            " {'name': 'google', 'version': '2.0.3'},\n",
            " {'name': 'google-api-core', 'version': '1.26.3'},\n",
            " {'name': 'google-api-python-client', 'version': '1.12.8'},\n",
            " {'name': 'google-auth', 'version': '1.30.0'},\n",
            " {'name': 'google-auth-httplib2', 'version': '0.0.4'},\n",
            " {'name': 'google-auth-oauthlib', 'version': '0.4.4'},\n",
            " {'name': 'google-cloud-bigquery', 'version': '1.21.0'},\n",
            " {'name': 'google-cloud-bigquery-storage', 'version': '1.1.0'},\n",
            " {'name': 'google-cloud-core', 'version': '1.0.3'},\n",
            " {'name': 'google-cloud-datastore', 'version': '1.8.0'},\n",
            " {'name': 'google-cloud-firestore', 'version': '1.7.0'},\n",
            " {'name': 'google-cloud-language', 'version': '1.2.0'},\n",
            " {'name': 'google-cloud-storage', 'version': '1.18.1'},\n",
            " {'name': 'google-cloud-translate', 'version': '1.5.0'},\n",
            " {'name': 'google-colab', 'version': '1.0.0'},\n",
            " {'name': 'google-pasta', 'version': '0.2.0'},\n",
            " {'name': 'google-resumable-media', 'version': '0.4.1'},\n",
            " {'name': 'googleapis-common-protos', 'version': '1.53.0'},\n",
            " {'name': 'googledrivedownloader', 'version': '0.4'},\n",
            " {'name': 'graphviz', 'version': '0.10.1'},\n",
            " {'name': 'greenlet', 'version': '1.1.0'},\n",
            " {'name': 'grpcio', 'version': '1.34.1'},\n",
            " {'name': 'gspread', 'version': '3.0.1'},\n",
            " {'name': 'gspread-dataframe', 'version': '3.0.8'},\n",
            " {'name': 'gym', 'version': '0.17.3'},\n",
            " {'name': 'h5py', 'version': '3.1.0'},\n",
            " {'name': 'HeapDict', 'version': '1.0.1'},\n",
            " {'name': 'hijri-converter', 'version': '2.1.1'},\n",
            " {'name': 'holidays', 'version': '0.10.5.2'},\n",
            " {'name': 'holoviews', 'version': '1.14.3'},\n",
            " {'name': 'html5lib', 'version': '1.0.1'},\n",
            " {'name': 'httpimport', 'version': '0.5.18'},\n",
            " {'name': 'httplib2', 'version': '0.17.4'},\n",
            " {'name': 'httplib2shim', 'version': '0.0.3'},\n",
            " {'name': 'humanize', 'version': '0.5.1'},\n",
            " {'name': 'hyperopt', 'version': '0.1.2'},\n",
            " {'name': 'ideep4py', 'version': '2.0.0.post3'},\n",
            " {'name': 'idna', 'version': '2.10'},\n",
            " {'name': 'imageio', 'version': '2.4.1'},\n",
            " {'name': 'imagesize', 'version': '1.2.0'},\n",
            " {'name': 'imbalanced-learn', 'version': '0.4.3'},\n",
            " {'name': 'imblearn', 'version': '0.0'},\n",
            " {'name': 'imgaug', 'version': '0.2.9'},\n",
            " {'name': 'importlib-metadata', 'version': '4.0.1'},\n",
            " {'name': 'importlib-resources', 'version': '5.1.3'},\n",
            " {'name': 'imutils', 'version': '0.5.4'},\n",
            " {'name': 'inflect', 'version': '2.1.0'},\n",
            " {'name': 'iniconfig', 'version': '1.1.1'},\n",
            " {'name': 'install', 'version': '1.3.4'},\n",
            " {'name': 'intel-openmp', 'version': '2021.2.0'},\n",
            " {'name': 'intervaltree', 'version': '2.1.0'},\n",
            " {'name': 'ipykernel', 'version': '4.10.1'},\n",
            " {'name': 'ipython', 'version': '5.5.0'},\n",
            " {'name': 'ipython-genutils', 'version': '0.2.0'},\n",
            " {'name': 'ipython-sql', 'version': '0.3.9'},\n",
            " {'name': 'ipywidgets', 'version': '7.6.3'},\n",
            " {'name': 'itsdangerous', 'version': '1.1.0'},\n",
            " {'name': 'jax', 'version': '0.2.13'},\n",
            " {'name': 'jaxlib', 'version': '0.1.66+cuda110'},\n",
            " {'name': 'jdcal', 'version': '1.4.1'},\n",
            " {'name': 'jedi', 'version': '0.18.0'},\n",
            " {'name': 'jieba', 'version': '0.42.1'},\n",
            " {'name': 'Jinja2', 'version': '2.11.3'},\n",
            " {'name': 'joblib', 'version': '1.0.1'},\n",
            " {'name': 'jpeg4py', 'version': '0.1.4'},\n",
            " {'name': 'jsonschema', 'version': '2.6.0'},\n",
            " {'name': 'jupyter', 'version': '1.0.0'},\n",
            " {'name': 'jupyter-client', 'version': '5.3.5'},\n",
            " {'name': 'jupyter-console', 'version': '5.2.0'},\n",
            " {'name': 'jupyter-core', 'version': '4.7.1'},\n",
            " {'name': 'jupyterlab-pygments', 'version': '0.1.2'},\n",
            " {'name': 'jupyterlab-widgets', 'version': '1.0.0'},\n",
            " {'name': 'kaggle', 'version': '1.5.12'},\n",
            " {'name': 'kapre', 'version': '0.3.5'},\n",
            " {'name': 'Keras', 'version': '2.4.3'},\n",
            " {'name': 'keras-nightly', 'version': '2.5.0.dev2021032900'},\n",
            " {'name': 'Keras-Preprocessing', 'version': '1.1.2'},\n",
            " {'name': 'keras-vis', 'version': '0.4.1'},\n",
            " {'name': 'kiwisolver', 'version': '1.3.1'},\n",
            " {'name': 'korean-lunar-calendar', 'version': '0.2.1'},\n",
            " {'name': 'librosa', 'version': '0.8.0'},\n",
            " {'name': 'lightgbm', 'version': '2.2.3'},\n",
            " {'name': 'llvmlite', 'version': '0.34.0'},\n",
            " {'name': 'lmdb', 'version': '0.99'},\n",
            " {'name': 'LunarCalendar', 'version': '0.0.9'},\n",
            " {'name': 'lxml', 'version': '4.2.6'},\n",
            " {'name': 'Markdown', 'version': '3.3.4'},\n",
            " {'name': 'MarkupSafe', 'version': '2.0.1'},\n",
            " {'name': 'matplotlib', 'version': '3.2.2'},\n",
            " {'name': 'matplotlib-inline', 'version': '0.1.2'},\n",
            " {'name': 'matplotlib-venn', 'version': '0.11.6'},\n",
            " {'name': 'missingno', 'version': '0.4.2'},\n",
            " {'name': 'mistune', 'version': '0.8.4'},\n",
            " {'name': 'mizani', 'version': '0.6.0'},\n",
            " {'name': 'mkl', 'version': '2019.0'},\n",
            " {'name': 'mlxtend', 'version': '0.14.0'},\n",
            " {'name': 'more-itertools', 'version': '8.7.0'},\n",
            " {'name': 'moviepy', 'version': '0.2.3.5'},\n",
            " {'name': 'mpmath', 'version': '1.2.1'},\n",
            " {'name': 'msgpack', 'version': '1.0.2'},\n",
            " {'name': 'multiprocess', 'version': '0.70.11.1'},\n",
            " {'name': 'multitasking', 'version': '0.0.9'},\n",
            " {'name': 'murmurhash', 'version': '1.0.5'},\n",
            " {'name': 'music21', 'version': '5.5.0'},\n",
            " {'name': 'natsort', 'version': '5.5.0'},\n",
            " {'name': 'nbclient', 'version': '0.5.3'},\n",
            " {'name': 'nbconvert', 'version': '5.6.1'},\n",
            " {'name': 'nbformat', 'version': '5.1.3'},\n",
            " {'name': 'nest-asyncio', 'version': '1.5.1'},\n",
            " {'name': 'netCDF4', 'version': '1.5.6'},\n",
            " {'name': 'networkx', 'version': '2.5.1'},\n",
            " {'name': 'nibabel', 'version': '3.0.2'},\n",
            " {'name': 'nltk', 'version': '3.2.5'},\n",
            " {'name': 'notebook', 'version': '5.3.1'},\n",
            " {'name': 'numba', 'version': '0.51.2'},\n",
            " {'name': 'numexpr', 'version': '2.7.3'},\n",
            " {'name': 'numpy', 'version': '1.19.5'},\n",
            " {'name': 'nvidia-ml-py3', 'version': '7.352.0'},\n",
            " {'name': 'oauth2client', 'version': '4.1.3'},\n",
            " {'name': 'oauthlib', 'version': '3.1.0'},\n",
            " {'name': 'okgrade', 'version': '0.4.3'},\n",
            " {'name': 'opencv-contrib-python', 'version': '4.1.2.30'},\n",
            " {'name': 'opencv-python', 'version': '4.1.2.30'},\n",
            " {'name': 'openpyxl', 'version': '2.5.9'},\n",
            " {'name': 'opt-einsum', 'version': '3.3.0'},\n",
            " {'name': 'osqp', 'version': '0.6.2.post0'},\n",
            " {'name': 'packaging', 'version': '20.9'},\n",
            " {'name': 'palettable', 'version': '3.3.0'},\n",
            " {'name': 'pandas', 'version': '1.1.5'},\n",
            " {'name': 'pandas-datareader', 'version': '0.9.0'},\n",
            " {'name': 'pandas-gbq', 'version': '0.13.3'},\n",
            " {'name': 'pandas-profiling', 'version': '1.4.1'},\n",
            " {'name': 'pandocfilters', 'version': '1.4.3'},\n",
            " {'name': 'panel', 'version': '0.11.3'},\n",
            " {'name': 'param', 'version': '1.10.1'},\n",
            " {'name': 'parso', 'version': '0.8.2'},\n",
            " {'name': 'pathlib', 'version': '1.0.1'},\n",
            " {'name': 'patsy', 'version': '0.5.1'},\n",
            " {'name': 'pexpect', 'version': '4.8.0'},\n",
            " {'name': 'pickleshare', 'version': '0.7.5'},\n",
            " {'name': 'Pillow', 'version': '7.1.2'},\n",
            " {'name': 'pip', 'version': '19.3.1'},\n",
            " {'name': 'pip-tools', 'version': '4.5.1'},\n",
            " {'name': 'plac', 'version': '1.1.3'},\n",
            " {'name': 'plotly', 'version': '4.4.1'},\n",
            " {'name': 'plotnine', 'version': '0.6.0'},\n",
            " {'name': 'pluggy', 'version': '0.7.1'},\n",
            " {'name': 'pooch', 'version': '1.3.0'},\n",
            " {'name': 'portpicker', 'version': '1.3.9'},\n",
            " {'name': 'prefetch-generator', 'version': '1.0.1'},\n",
            " {'name': 'preshed', 'version': '3.0.5'},\n",
            " {'name': 'prettytable', 'version': '2.1.0'},\n",
            " {'name': 'progressbar2', 'version': '3.38.0'},\n",
            " {'name': 'prometheus-client', 'version': '0.10.1'},\n",
            " {'name': 'promise', 'version': '2.3'},\n",
            " {'name': 'prompt-toolkit', 'version': '1.0.18'},\n",
            " {'name': 'protobuf', 'version': '3.12.4'},\n",
            " {'name': 'psutil', 'version': '5.4.8'},\n",
            " {'name': 'psycopg2', 'version': '2.7.6.1'},\n",
            " {'name': 'ptyprocess', 'version': '0.7.0'},\n",
            " {'name': 'py', 'version': '1.10.0'},\n",
            " {'name': 'pyarrow', 'version': '3.0.0'},\n",
            " {'name': 'pyasn1', 'version': '0.4.8'},\n",
            " {'name': 'pyasn1-modules', 'version': '0.2.8'},\n",
            " {'name': 'pycocotools', 'version': '2.0.2'},\n",
            " {'name': 'pycparser', 'version': '2.20'},\n",
            " {'name': 'pyct', 'version': '0.4.8'},\n",
            " {'name': 'pydata-google-auth', 'version': '1.2.0'},\n",
            " {'name': 'pydot', 'version': '1.3.0'},\n",
            " {'name': 'pydot-ng', 'version': '2.0.0'},\n",
            " {'name': 'pydotplus', 'version': '2.0.2'},\n",
            " {'name': 'PyDrive', 'version': '1.3.1'},\n",
            " {'name': 'pyemd', 'version': '0.5.1'},\n",
            " {'name': 'pyerfa', 'version': '2.0.0'},\n",
            " {'name': 'pyglet', 'version': '1.5.0'},\n",
            " {'name': 'Pygments', 'version': '2.6.1'},\n",
            " {'name': 'pygobject', 'version': '3.26.1'},\n",
            " {'name': 'pymc3', 'version': '3.11.2'},\n",
            " {'name': 'PyMeeus', 'version': '0.5.11'},\n",
            " {'name': 'pymongo', 'version': '3.11.4'},\n",
            " {'name': 'pymystem3', 'version': '0.2.0'},\n",
            " {'name': 'PyOpenGL', 'version': '3.1.5'},\n",
            " {'name': 'pyparsing', 'version': '2.4.7'},\n",
            " {'name': 'pyrsistent', 'version': '0.17.3'},\n",
            " {'name': 'pysndfile', 'version': '1.3.8'},\n",
            " {'name': 'PySocks', 'version': '1.7.1'},\n",
            " {'name': 'pystan', 'version': '2.19.1.1'},\n",
            " {'name': 'pytest', 'version': '3.6.4'},\n",
            " {'name': 'python-apt', 'version': '0.0.0'},\n",
            " {'name': 'python-chess', 'version': '0.23.11'},\n",
            " {'name': 'python-dateutil', 'version': '2.8.1'},\n",
            " {'name': 'python-louvain', 'version': '0.15'},\n",
            " {'name': 'python-slugify', 'version': '5.0.2'},\n",
            " {'name': 'python-utils', 'version': '2.5.6'},\n",
            " {'name': 'pytz', 'version': '2018.9'},\n",
            " {'name': 'pyviz-comms', 'version': '2.0.1'},\n",
            " {'name': 'PyWavelets', 'version': '1.1.1'},\n",
            " {'name': 'PyYAML', 'version': '3.13'},\n",
            " {'name': 'pyzmq', 'version': '22.0.3'},\n",
            " {'name': 'qdldl', 'version': '0.1.5.post0'},\n",
            " {'name': 'qtconsole', 'version': '5.1.0'},\n",
            " {'name': 'QtPy', 'version': '1.9.0'},\n",
            " {'name': 'regex', 'version': '2019.12.20'},\n",
            " {'name': 'requests', 'version': '2.23.0'},\n",
            " {'name': 'requests-oauthlib', 'version': '1.3.0'},\n",
            " {'name': 'resampy', 'version': '0.2.2'},\n",
            " {'name': 'retrying', 'version': '1.3.3'},\n",
            " {'name': 'rpy2', 'version': '3.4.4'},\n",
            " {'name': 'rsa', 'version': '4.7.2'},\n",
            " {'name': 'scikit-image', 'version': '0.16.2'},\n",
            " {'name': 'scikit-learn', 'version': '0.22.2.post1'},\n",
            " {'name': 'scipy', 'version': '1.4.1'},\n",
            " {'name': 'screen-resolution-extra', 'version': '0.0.0'},\n",
            " {'name': 'scs', 'version': '2.1.3'},\n",
            " {'name': 'seaborn', 'version': '0.11.1'},\n",
            " {'name': 'semver', 'version': '2.13.0'},\n",
            " {'name': 'Send2Trash', 'version': '1.5.0'},\n",
            " {'name': 'setuptools', 'version': '57.0.0'},\n",
            " {'name': 'setuptools-git', 'version': '1.2'},\n",
            " {'name': 'Shapely', 'version': '1.7.1'},\n",
            " {'name': 'simplegeneric', 'version': '0.8.1'},\n",
            " {'name': 'six', 'version': '1.15.0'},\n",
            " {'name': 'sklearn', 'version': '0.0'},\n",
            " {'name': 'sklearn-pandas', 'version': '1.8.0'},\n",
            " {'name': 'smart-open', 'version': '5.0.0'},\n",
            " {'name': 'snowballstemmer', 'version': '2.1.0'},\n",
            " {'name': 'sortedcontainers', 'version': '2.4.0'},\n",
            " {'name': 'SoundFile', 'version': '0.10.3.post1'},\n",
            " {'name': 'spacy', 'version': '2.2.4'},\n",
            " {'name': 'Sphinx', 'version': '1.8.5'},\n",
            " {'name': 'sphinxcontrib-serializinghtml', 'version': '1.1.4'},\n",
            " {'name': 'sphinxcontrib-websupport', 'version': '1.2.4'},\n",
            " {'name': 'SQLAlchemy', 'version': '1.4.15'},\n",
            " {'name': 'sqlparse', 'version': '0.4.1'},\n",
            " {'name': 'srsly', 'version': '1.0.5'},\n",
            " {'name': 'statsmodels', 'version': '0.10.2'},\n",
            " {'name': 'sympy', 'version': '1.7.1'},\n",
            " {'name': 'tables', 'version': '3.4.4'},\n",
            " {'name': 'tabulate', 'version': '0.8.9'},\n",
            " {'name': 'tblib', 'version': '1.7.0'},\n",
            " {'name': 'tensorboard', 'version': '2.5.0'},\n",
            " {'name': 'tensorboard-data-server', 'version': '0.6.1'},\n",
            " {'name': 'tensorboard-plugin-wit', 'version': '1.8.0'},\n",
            " {'name': 'tensorflow', 'version': '2.5.0'},\n",
            " {'name': 'tensorflow-datasets', 'version': '4.0.1'},\n",
            " {'name': 'tensorflow-estimator', 'version': '2.5.0'},\n",
            " {'name': 'tensorflow-gcs-config', 'version': '2.5.0'},\n",
            " {'name': 'tensorflow-hub', 'version': '0.12.0'},\n",
            " {'name': 'tensorflow-metadata', 'version': '1.0.0'},\n",
            " {'name': 'tensorflow-probability', 'version': '0.12.1'},\n",
            " {'name': 'termcolor', 'version': '1.1.0'},\n",
            " {'name': 'terminado', 'version': '0.10.0'},\n",
            " {'name': 'testpath', 'version': '0.5.0'},\n",
            " {'name': 'text-unidecode', 'version': '1.3'},\n",
            " {'name': 'textblob', 'version': '0.15.3'},\n",
            " {'name': 'Theano-PyMC', 'version': '1.1.2'},\n",
            " {'name': 'thinc', 'version': '7.4.0'},\n",
            " {'name': 'tifffile', 'version': '2021.4.8'},\n",
            " {'name': 'toml', 'version': '0.10.2'},\n",
            " {'name': 'toolz', 'version': '0.11.1'},\n",
            " {'name': 'torch', 'version': '1.8.1+cu101'},\n",
            " {'name': 'torchsummary', 'version': '1.5.1'},\n",
            " {'name': 'torchtext', 'version': '0.9.1'},\n",
            " {'name': 'torchvision', 'version': '0.9.1+cu101'},\n",
            " {'name': 'tornado', 'version': '5.1.1'},\n",
            " {'name': 'tqdm', 'version': '4.41.1'},\n",
            " {'name': 'traitlets', 'version': '5.0.5'},\n",
            " {'name': 'tweepy', 'version': '3.10.0'},\n",
            " {'name': 'typeguard', 'version': '2.7.1'},\n",
            " {'name': 'typing-extensions', 'version': '3.7.4.3'},\n",
            " {'name': 'tzlocal', 'version': '1.5.1'},\n",
            " {'name': 'uritemplate', 'version': '3.0.1'},\n",
            " {'name': 'urllib3', 'version': '1.24.3'},\n",
            " {'name': 'vega-datasets', 'version': '0.9.0'},\n",
            " {'name': 'wasabi', 'version': '0.8.2'},\n",
            " {'name': 'wcwidth', 'version': '0.2.5'},\n",
            " {'name': 'webencodings', 'version': '0.5.1'},\n",
            " {'name': 'Werkzeug', 'version': '1.0.1'},\n",
            " {'name': 'wheel', 'version': '0.36.2'},\n",
            " {'name': 'widgetsnbextension', 'version': '3.5.1'},\n",
            " {'name': 'wordcloud', 'version': '1.5.0'},\n",
            " {'name': 'wrapt', 'version': '1.12.1'},\n",
            " {'name': 'xarray', 'version': '0.18.2'},\n",
            " {'name': 'xgboost', 'version': '0.90'},\n",
            " {'name': 'xkit', 'version': '0.0.0'},\n",
            " {'name': 'xlrd', 'version': '1.1.0'},\n",
            " {'name': 'xlwt', 'version': '1.3.0'},\n",
            " {'name': 'yellowbrick', 'version': '0.9.1'},\n",
            " {'name': 'zict', 'version': '2.0.0'},\n",
            " {'name': 'zipp', 'version': '3.4.1'}]\n"
          ],
          "name": "stdout"
        }
      ]
    },
    {
      "cell_type": "markdown",
      "metadata": {
        "id": "LAGjN3DSgQqV"
      },
      "source": [
        "### **Waiting for processes**\n",
        "\n",
        "*   Start a long running process using `subprocess.Popen()`.\n",
        "*   Linux `sleep` command will suspend execution of a shell for a period of time.\n",
        "*   Use `subprocess.communicate()` to create a timeout.\n",
        "*   Cleanup the process if it takes longer than the timeout.\n",
        "*   Print error message and standard out and standard error streams."
      ]
    },
    {
      "cell_type": "code",
      "metadata": {
        "colab": {
          "base_uri": "https://localhost:8080/"
        },
        "id": "xsobQHGkgMXe",
        "outputId": "836b15db-75dc-4e29-fb16-a7baa6556927"
      },
      "source": [
        "from subprocess import (Popen, PIPE, TimeoutExpired)\n",
        "\n",
        "# Start a long running process using subprocess.Popen()\n",
        "proc = Popen([\"sleep\", \"2\"], stdout=PIPE, stderr=PIPE)\n",
        "\n",
        "# Use subprocess.communicate() to create a timeout \n",
        "try:\n",
        "    output, error = proc.communicate(timeout=1)\n",
        "    \n",
        "except TimeoutExpired:\n",
        "\n",
        "\t# Cleanup the process if it takes longer than the timeout\n",
        "    proc.kill()\n",
        "    \n",
        "    # Read standard out and standard error streams and print\n",
        "    output, error = proc.communicate()\n",
        "    print(f\"Process timed out with output: {output}, error: {error}\")\n"
      ],
      "execution_count": null,
      "outputs": [
        {
          "output_type": "stream",
          "text": [
            "Process timed out with output: b'', error: b''\n"
          ],
          "name": "stdout"
        }
      ]
    },
    {
      "cell_type": "markdown",
      "metadata": {
        "id": "Hg7dTno-iQeq"
      },
      "source": [
        "### **Detecting duplicate files with `subprocess`**\n",
        "\n",
        "The `md5sum` utility is a shell command that finds the unique hash of each file.\n",
        "\n",
        "*  Iterate over the list of files `filenames`.\n",
        "*  Use `Popen` to call the `md5sum` utility.\n",
        "*  Append duplicate file to a list.\n",
        "*  Print the duplicates out.\n",
        "\n",
        "Below we create some simple files to see how we can detect duplicate files."
      ]
    },
    {
      "cell_type": "code",
      "metadata": {
        "colab": {
          "base_uri": "https://localhost:8080/"
        },
        "id": "VOwrGP63kEft",
        "outputId": "733434fb-f6d4-43ac-d1da-e3cb04f0ecc3"
      },
      "source": [
        "%%file /content/sample_data/f_0.txt\n",
        "1\n",
        "2"
      ],
      "execution_count": null,
      "outputs": [
        {
          "output_type": "stream",
          "text": [
            "Overwriting /content/sample_data/f_0.txt\n"
          ],
          "name": "stdout"
        }
      ]
    },
    {
      "cell_type": "code",
      "metadata": {
        "colab": {
          "base_uri": "https://localhost:8080/"
        },
        "id": "uYMocVnAkozM",
        "outputId": "54c8eefc-d126-42b2-da61-7bdf7bc69935"
      },
      "source": [
        "%%file /content/sample_data/f_1.txt\n",
        "1\n",
        "2"
      ],
      "execution_count": null,
      "outputs": [
        {
          "output_type": "stream",
          "text": [
            "Overwriting /content/sample_data/f_1.txt\n"
          ],
          "name": "stdout"
        }
      ]
    },
    {
      "cell_type": "code",
      "metadata": {
        "colab": {
          "base_uri": "https://localhost:8080/"
        },
        "id": "PQhElKITkuTV",
        "outputId": "76f272fa-0d5f-404b-fa33-15349a3689e4"
      },
      "source": [
        "%%file /content/sample_data/f_2.txt\n",
        "1\n",
        "2"
      ],
      "execution_count": null,
      "outputs": [
        {
          "output_type": "stream",
          "text": [
            "Overwriting /content/sample_data/f_2.txt\n"
          ],
          "name": "stdout"
        }
      ]
    },
    {
      "cell_type": "code",
      "metadata": {
        "colab": {
          "base_uri": "https://localhost:8080/"
        },
        "id": "OUpWvsEzhvp-",
        "outputId": "10265caa-de45-4418-8a97-6a83cc3fea30"
      },
      "source": [
        "from subprocess import Popen, PIPE\n",
        "import os\n",
        "\n",
        "# Don't change these variables\n",
        "checksums = {}\n",
        "duplicates = []\n",
        "root = \"/content/sample_data\"\n",
        "files = [os.path.join(root, f) for f in os.listdir(root)]\n",
        "# Iterate over the list of files filenames\n",
        "for filename in files:\n",
        "    # Use Popen to call the md5sum utility\n",
        "    with Popen([\"md5sum\", filename], stdout=PIPE) as proc:\n",
        "        try:\n",
        "            checksum, _ = proc.stdout.read().split()\n",
        "        except ValueError: # During creating files, it creates some unknown empty proc.stdout so this is the way to skip that error\n",
        "            continue\n",
        "        # Append duplicate to a list if the checksum is found\n",
        "        if checksum in checksums:\n",
        "            duplicates.append(filename)\n",
        "        checksums[checksum] = filename\n",
        "\n",
        "print(f\"Found Duplicates: {duplicates}\")"
      ],
      "execution_count": null,
      "outputs": [
        {
          "output_type": "stream",
          "text": [
            "Found Duplicates: ['/content/sample_data/f_0.txt', '/content/sample_data/f_1.txt']\n"
          ],
          "name": "stdout"
        }
      ]
    },
    {
      "cell_type": "markdown",
      "metadata": {
        "id": "jTU-jwoOZ5WS"
      },
      "source": [
        "# **Using Unix Pipes as input**\n",
        "\n",
        "*  With `subprocess.Popen` the `stdin` argument takes the `stdout` of a second process. \n",
        "*  Below, notice that the first process takes a `stdout` argument of `subprocess.PIPE`. "
      ]
    },
    {
      "cell_type": "code",
      "metadata": {
        "id": "PVpRRjoT1B50"
      },
      "source": [
        "from subprocess import Popen, PIPE\n",
        "\n",
        "proc1 = Popen([\"process_one.sh\"], stdout=PIPE)\n",
        "Popen([\"process_two.sh\"], stdin=proc1.stdout)"
      ],
      "execution_count": null,
      "outputs": []
    },
    {
      "cell_type": "markdown",
      "metadata": {
        "id": "pWljKqu4a2xC"
      },
      "source": [
        "With `subprocess.run()`, the input argument takes the `stdout` of another process as opposed to using the `stdin` argument in `subprocess.Popen`."
      ]
    },
    {
      "cell_type": "code",
      "metadata": {
        "id": "AyQm_9QdbgpR"
      },
      "source": [
        "from subprocess import Popen, PIPE, run\n",
        "\n",
        "proc1 = run([\"process_one.sh\"], stdout=PIPE)\n",
        "run([\"process_two.sh\"], input=proc1.stdout)"
      ],
      "execution_count": null,
      "outputs": []
    },
    {
      "cell_type": "markdown",
      "metadata": {
        "id": "jFCQAzYib0yP"
      },
      "source": [
        "These two languages, `python` objects and `Unix` strings, have to be translated back and forth when using the `subprocess` module.\n",
        "\n",
        "Often when automation happens, a script will wait for a user to input a string. \n",
        "*   With the `bash` shell this can be accomplished with the `read` command. \n",
        "*   With `Python` this can be accomplished using `input()`.\n",
        "\n",
        "In more sophisticated scripts in `Python`, a command line library like `click` or `argparse` will be used to pass commands to a `Python` script.\n",
        "\n",
        "### **Counting files in a directory tree**\n",
        "\n",
        "Use `subprocess.run` to pipe the output of the `find` command to `wc -l` to print the numbers of files in the directory tree.\n",
        "\n",
        "*  Use `subprocess.run` to run unix command `find . -type f -print`.\n",
        "*  Send the output of the `find` command to the input of `wc -l`.\n",
        "*  Decode the bytes to strings.\n",
        "*  Strip the output of spaces and print."
      ]
    },
    {
      "cell_type": "code",
      "metadata": {
        "colab": {
          "base_uri": "https://localhost:8080/"
        },
        "id": "UBJKvipVdKui",
        "outputId": "b7138fc9-8ddf-4548-9e91-c7aa8d9a0f62"
      },
      "source": [
        "from subprocess import Popen, PIPE\n",
        "\n",
        "# Runs find command to search for files\n",
        "find = Popen([\"find\", \"/content/sample_data\", \"-type\", \"f\", \"-print\"], stdout=PIPE)\n",
        "\n",
        "# Runs wc and counts the number of lines\n",
        "word_count = Popen([\"wc\", \"-l\"], stdin=find.stdout, stdout=PIPE)\n",
        "\n",
        "# Print the decoded and formatted output\n",
        "output = word_count.stdout.read()\n",
        "print(output.decode(\"utf-8\").strip())\n"
      ],
      "execution_count": null,
      "outputs": [
        {
          "output_type": "stream",
          "text": [
            "9\n"
          ],
          "name": "stdout"
        }
      ]
    },
    {
      "cell_type": "markdown",
      "metadata": {
        "id": "bZrrFnWUfQBJ"
      },
      "source": [
        "Let's see an intermediate output"
      ]
    },
    {
      "cell_type": "code",
      "metadata": {
        "colab": {
          "base_uri": "https://localhost:8080/"
        },
        "id": "kGUlFu4VesAm",
        "outputId": "c7b457c6-4711-4b91-9974-941dc26937ef"
      },
      "source": [
        "from subprocess import Popen, PIPE\n",
        "\n",
        "# Runs find command to search for files\n",
        "find = Popen([\"find\", \"/content/sample_data\", \"-type\", \"f\", \"-print\"], stdout=PIPE)\n",
        "print(find.stdout.read().decode(\"utf-8\"))"
      ],
      "execution_count": null,
      "outputs": [
        {
          "output_type": "stream",
          "text": [
            "/content/sample_data/README.md\n",
            "/content/sample_data/anscombe.json\n",
            "/content/sample_data/f_2.txt\n",
            "/content/sample_data/f_0.txt\n",
            "/content/sample_data/f_1.txt\n",
            "/content/sample_data/california_housing_test.csv\n",
            "/content/sample_data/mnist_train_small.csv\n",
            "/content/sample_data/california_housing_train.csv\n",
            "/content/sample_data/mnist_test.csv\n",
            "\n"
          ],
          "name": "stdout"
        }
      ]
    },
    {
      "cell_type": "markdown",
      "metadata": {
        "id": "Saa9aaNpgNTv"
      },
      "source": [
        "### **Running a health check**\n",
        "\n",
        "Send the output of an `echo 'python3'` command to a `healthcheck.sh` script.\n",
        "\n",
        "*  Echo `'python3'` using `subprocess.Popen`.\n",
        "*  Send the output of the echo subprocess to the \"/content/healthcheck.sh\" script.\n",
        "*  Capture the output of `subprocess` that invokes \"/content/healthcheck.sh\" and use assert to verify `python3` is in the output.\n",
        "\n",
        "The healthcheck.sh is created below in /content/healthcheck.sh.  Note that without the Shell command `!chmod 755 healthcheck.sh`, you will see PermissionError if you run on colab."
      ]
    },
    {
      "cell_type": "code",
      "metadata": {
        "colab": {
          "base_uri": "https://localhost:8080/"
        },
        "id": "s8tdFjP8fzVS",
        "outputId": "b291fffb-a535-428e-9969-3f8a39356288"
      },
      "source": [
        "%%file healthcheck.sh\n",
        "#!/bin/bash\n",
        "echo \"Enter executable to check: \"\n",
        "read executable\n",
        "path=`which $executable`\n",
        "echo \"Location: $path\""
      ],
      "execution_count": null,
      "outputs": [
        {
          "output_type": "stream",
          "text": [
            "Writing healthcheck.txt\n"
          ],
          "name": "stdout"
        }
      ]
    },
    {
      "cell_type": "code",
      "metadata": {
        "colab": {
          "base_uri": "https://localhost:8080/"
        },
        "id": "_i8jQdHUgzur",
        "outputId": "e02fc309-1442-4ea7-8bba-b9bec40eb13e"
      },
      "source": [
        "from subprocess import Popen, PIPE\n",
        "!chmod 755 healthcheck.sh\n",
        "\n",
        "# equivalent to 'echo \"python3\"'\n",
        "echo = Popen([\"echo\", \"python3\"], stdout=PIPE)\n",
        "\n",
        "# equivalent to: echo \"python3\" | ./healthcheck.sh\n",
        "path = Popen([\"/content/healthcheck.sh\"], stdin=echo.stdout, stdout=PIPE)\n",
        "\n",
        "full_path = path.stdout.read().decode(\"utf-8\")\n",
        "print(f\"...Health Check Output...\\n\\n {full_path}\")\n",
        "\n",
        "# The assertion will fail if python3 executable path is not found\n",
        "assert \"python3\" in full_path\n"
      ],
      "execution_count": null,
      "outputs": [
        {
          "output_type": "stream",
          "text": [
            "...Health Check Output...\n",
            "\n",
            " Enter executable to check: \n",
            "Location: /usr/bin/python3\n",
            "\n"
          ],
          "name": "stdout"
        }
      ]
    },
    {
      "cell_type": "markdown",
      "metadata": {
        "id": "32JPmbsVrTyQ"
      },
      "source": [
        "# **Understanding `shell=True` in subprocess**\n",
        "\n",
        "*  By default in `subprocess` both `Popen` and `run` have `shell=False`. \n",
        "*  This default makes it so arguments must be passed in a `list`.\n",
        "*  If `shell=True` absolutely must be used, one work around is to use `shlex` to safely create the string.\n",
        "\n",
        "#  **Using the `shlex` module**\n",
        "\n",
        "*   Purpose of `shlex` is to parse `Unix` strings safely. \n",
        "*   Ensure that malicious code cannot be run\n",
        "\n",
        "\n",
        "\n"
      ]
    },
    {
      "cell_type": "code",
      "metadata": {
        "colab": {
          "base_uri": "https://localhost:8080/"
        },
        "id": "lcC3VVJvibY1",
        "outputId": "e4a25ee9-4dfe-4b7f-ab0e-9dc321df52bd"
      },
      "source": [
        "import shlex\n",
        "\n",
        "shlex.split(\"/content && rm -rf /all/my/dirs\")"
      ],
      "execution_count": null,
      "outputs": [
        {
          "output_type": "execute_result",
          "data": {
            "text/plain": [
              "['/content', '&&', 'rm', '-rf', '/all/my/dirs']"
            ]
          },
          "metadata": {
            "tags": []
          },
          "execution_count": 24
        }
      ]
    },
    {
      "cell_type": "code",
      "metadata": {
        "colab": {
          "base_uri": "https://localhost:8080/"
        },
        "id": "pCzN0wu1ju2D",
        "outputId": "71505d69-99a4-4aa8-9958-927ea51a531c"
      },
      "source": [
        "from subprocess import run\n",
        "\n",
        "directory = shlex.split(\"/content\")\n",
        "cmd = [\"ls\"]\n",
        "cmd.extend(directory)\n",
        "run(cmd, shell=True)"
      ],
      "execution_count": null,
      "outputs": [
        {
          "output_type": "execute_result",
          "data": {
            "text/plain": [
              "CompletedProcess(args=['ls', '/content'], returncode=0)"
            ]
          },
          "metadata": {
            "tags": []
          },
          "execution_count": 25
        }
      ]
    },
    {
      "cell_type": "markdown",
      "metadata": {
        "id": "S2KeYOZKuC-j"
      },
      "source": [
        "### **Safely find directories**\n",
        "\n",
        "Write a tool that safely processes user input and searches a file system for all directories using `find` and `subprocess.Popen`.\n",
        "\n",
        "*   Write a script that safely can test user input in `subprocess.Popen`.\n",
        "*  Find all of the files in the current working directory.\n",
        "*  Print out all of the directories found."
      ]
    },
    {
      "cell_type": "code",
      "metadata": {
        "colab": {
          "base_uri": "https://localhost:8080/"
        },
        "id": "brM05G-jtJVU",
        "outputId": "872bdc05-2f30-4c5a-dd10-14b1ed8dc82d"
      },
      "source": [
        "from subprocess import PIPE, Popen\n",
        "\n",
        "#Accepts user input\n",
        "print(\"Enter a path to search for directories: \\n\")\n",
        "user_input = \"/content\"\n",
        "print(f\"directory to process: {user_input}\")\n",
        "\n",
        "#Pass safe user input into subprocess\n",
        "with Popen([\"find\", user_input, \"-type\", \"d\"], stdout=PIPE) as find:\n",
        "    result = find.stdout.readlines()\n",
        "    \n",
        "    #Process each line and decode it and strip it\n",
        "    for line in result:\n",
        "        formatted_line = line.decode(\"utf-8\").strip()\n",
        "        print(f\"Found Directory: {formatted_line}\")\n"
      ],
      "execution_count": null,
      "outputs": [
        {
          "output_type": "stream",
          "text": [
            "Enter a path to search for directories: \n",
            "\n",
            "directory to process: /content\n",
            "Found Directory: /content\n",
            "Found Directory: /content/.config\n",
            "Found Directory: /content/.config/logs\n",
            "Found Directory: /content/.config/logs/2021.06.01\n",
            "Found Directory: /content/.config/configurations\n",
            "Found Directory: /content/sample_data\n"
          ],
          "name": "stdout"
        }
      ]
    },
    {
      "cell_type": "markdown",
      "metadata": {
        "id": "UbxiV8nFvvhY"
      },
      "source": [
        "#  Directory Summarizer\n",
        "\n",
        "Write a script that will calculate the total disk usage from an arbitrary amount of directories you pass in, or you would just use the Unix `du` command alone. \n",
        "\n",
        "*  Use `shlex.split` to safely split a list of directories\n",
        "*  Pass the output of the `shlex.split` to subprocess.run.\n",
        "*  Print out the results."
      ]
    },
    {
      "cell_type": "code",
      "metadata": {
        "colab": {
          "base_uri": "https://localhost:8080/"
        },
        "id": "vbL3c0w7vLNR",
        "outputId": "df3990b8-d9a2-4243-88c1-f212b0ae918a"
      },
      "source": [
        "from subprocess import run, PIPE\n",
        "import shlex\n",
        "\n",
        "print(\"Enter a list of directories to calculate storage total: \\n\")\n",
        "user_input = \"/sample_data\"\n",
        "\n",
        "# Sanitize the user input\n",
        "sanitized_user_input = shlex.split(user_input)\n",
        "print(f\"raw_user_input: {user_input} |  sanitized_user_input: {sanitized_user_input}\")\n",
        "\n",
        "# Safely Extend the command with sanitized input\n",
        "cmd = [\"du\", \"-sh\", \"--total\"]\n",
        "cmd.extend([\"/content\" + dirname for dirname in sanitized_user_input])\n",
        "print(f\"cmd: {cmd}\")\n",
        "\n",
        "# Print the totals out\n",
        "disk_total = run(cmd, stdout=PIPE)\n",
        "print(disk_total.stdout.decode(\"utf-8\"))\n"
      ],
      "execution_count": null,
      "outputs": [
        {
          "output_type": "stream",
          "text": [
            "Enter a list of directories to calculate storage total: \n",
            "\n",
            "raw_user_input: /sample_data |  sanitized_user_input: ['/sample_data']\n",
            "cmd: ['du', '-sh', '--total', '/content/sample_data']\n",
            "55M\t/content/sample_data\n",
            "55M\ttotal\n",
            "\n"
          ],
          "name": "stdout"
        }
      ]
    },
    {
      "cell_type": "markdown",
      "metadata": {
        "id": "fAXuD5H4zHMZ"
      },
      "source": [
        "The key difference in `shlex.split` is that it can safely quote unix strings and prevent attack vectors versus a regular string `split` method that doesn't have this capability.\n",
        "\n",
        "# **`os.walk`**\n",
        "\n",
        "* `os.walk` returns the \n",
        "  *  root \n",
        "  *  directories\n",
        "  *  files\n",
        "*  The type of the object is a Python `generator`.\n",
        "\n"
      ]
    },
    {
      "cell_type": "code",
      "metadata": {
        "id": "3FNJXpqExdU2",
        "colab": {
          "base_uri": "https://localhost:8080/"
        },
        "outputId": "0258bf82-daf3-4148-aeb2-f5022c85be2f"
      },
      "source": [
        "import os\n",
        "f = os.walk(\"/content\")\n",
        "next(f)"
      ],
      "execution_count": null,
      "outputs": [
        {
          "output_type": "execute_result",
          "data": {
            "text/plain": [
              "('/content', ['.config', 'sample_data'], ['healthcheck.txt', 'healthcheck.sh'])"
            ]
          },
          "metadata": {
            "tags": []
          },
          "execution_count": 4
        }
      ]
    },
    {
      "cell_type": "code",
      "metadata": {
        "colab": {
          "base_uri": "https://localhost:8080/"
        },
        "id": "8DW-fDqs973_",
        "outputId": "0c8005f9-edab-4840-c2c1-ceee77246aa2"
      },
      "source": [
        "import os\n",
        "fullpath = \"/content/sample_data/mnist_test.csv\"\n",
        "_, ext = os.path.splitext(fullpath)\n",
        "print(_)\n",
        "print(ext)"
      ],
      "execution_count": null,
      "outputs": [
        {
          "output_type": "stream",
          "text": [
            "/content/sample_data/mnist_test\n",
            ".csv\n"
          ],
          "name": "stdout"
        }
      ]
    },
    {
      "cell_type": "markdown",
      "metadata": {
        "id": "Euhxg5wn-9p7"
      },
      "source": [
        "### **Find the matching files**\n",
        "\n",
        "The code below will search for files that match specific patterns in a directory `sample_data`.\n",
        "\n",
        "*  Walk the file system starting at the `/content`.\n",
        "*  Create the full path to the file by using `os.path.join()`.\n",
        "*  Match the extension pattern `.csv` using `os.path.splitext() `method and append matches to a `list`.\n",
        "*  Print the matches you find.\n",
        "\n",
        "The code below could be made even more sophisticated by taking advantage of other Python features like looking for regular expressions in file content or performing machine learning on each file."
      ]
    },
    {
      "cell_type": "code",
      "metadata": {
        "colab": {
          "base_uri": "https://localhost:8080/"
        },
        "id": "DP3MqQHc-KE9",
        "outputId": "50c80908-688f-46cc-e862-186db50a8d59"
      },
      "source": [
        "import os\n",
        "\n",
        "# Walk the filesystem starting at the /content\n",
        "matches = []\n",
        "for root, _, files in os.walk('/content'):\n",
        "    for name in files:\n",
        "      \t# Create the full path to the file by using os.path.join()\n",
        "        fullpath = os.path.join(root, name)\n",
        "        print(f\"Processing file: {fullpath}\")\n",
        "        # Split off the extension and discard the rest of the path\n",
        "        _, ext = os.path.splitext(fullpath)\n",
        "        # Match the extension pattern .csv\n",
        "        if ext == \".csv\":\n",
        "            matches.append(fullpath)\n",
        "            \n",
        "# Print the matches you find          \n",
        "print(\"\\n\", matches)\n"
      ],
      "execution_count": null,
      "outputs": [
        {
          "output_type": "stream",
          "text": [
            "Processing file: /content/healthcheck.txt\n",
            "Processing file: /content/healthcheck.sh\n",
            "Processing file: /content/.config/.last_survey_prompt.yaml\n",
            "Processing file: /content/.config/active_config\n",
            "Processing file: /content/.config/config_sentinel\n",
            "Processing file: /content/.config/.last_opt_in_prompt.yaml\n",
            "Processing file: /content/.config/.last_update_check.json\n",
            "Processing file: /content/.config/gce\n",
            "Processing file: /content/.config/logs/2021.06.01/13.39.46.598129.log\n",
            "Processing file: /content/.config/logs/2021.06.01/13.40.26.776675.log\n",
            "Processing file: /content/.config/logs/2021.06.01/13.40.44.102103.log\n",
            "Processing file: /content/.config/logs/2021.06.01/13.40.43.432793.log\n",
            "Processing file: /content/.config/logs/2021.06.01/13.40.21.024150.log\n",
            "Processing file: /content/.config/logs/2021.06.01/13.40.05.370650.log\n",
            "Processing file: /content/.config/configurations/config_default\n",
            "Processing file: /content/sample_data/README.md\n",
            "Processing file: /content/sample_data/anscombe.json\n",
            "Processing file: /content/sample_data/f_2.txt\n",
            "Processing file: /content/sample_data/f_0.txt\n",
            "Processing file: /content/sample_data/f_1.txt\n",
            "Processing file: /content/sample_data/california_housing_test.csv\n",
            "Processing file: /content/sample_data/mnist_train_small.csv\n",
            "Processing file: /content/sample_data/california_housing_train.csv\n",
            "Processing file: /content/sample_data/mnist_test.csv\n",
            "\n",
            " ['/content/sample_data/california_housing_test.csv', '/content/sample_data/mnist_train_small.csv', '/content/sample_data/california_housing_train.csv', '/content/sample_data/mnist_test.csv']\n"
          ],
          "name": "stdout"
        }
      ]
    },
    {
      "cell_type": "markdown",
      "metadata": {
        "id": "2mMxkZVRBQ_B"
      },
      "source": [
        "### **Rename files**\n",
        "\n",
        "Rename all of the files in the directory by replacing the phrase `'f_'` with `'file_'`.  Remember that the name variable will need to be split to be renamed.\n",
        "\n",
        "*  Use `os.walk` to traverse the cattle directory.\n",
        "*  Use `pathlib` to rename all files with` 'f_'` to `'file_'`."
      ]
    },
    {
      "cell_type": "code",
      "metadata": {
        "colab": {
          "base_uri": "https://localhost:8080/"
        },
        "id": "zNUi2pfCAfce",
        "outputId": "4c60db74-d2e4-42e8-8032-f9c50fcb0df2"
      },
      "source": [
        "import pathlib\n",
        "import os\n",
        "\n",
        "# Walk the filesystem starting at the test_dir\n",
        "for root, _, files in os.walk('/content'):\n",
        "    for name in files:\n",
        "      \t\n",
        "        # Create the full path to the file by using os.path.join()\n",
        "        fullpath = os.path.join(root, name)\n",
        "        print(f\"Processing file: {fullpath}\")\n",
        "        \n",
        "        # Rename file ตรงนี้เราเปลี่ยนนิดหน่อย\n",
        "        if \"f_\" in name:\n",
        "            p = pathlib.Path(fullpath)\n",
        "            old_name = name.split(\"_\")[1] # You need to split the name by underscore\n",
        "            new_name = f\"file_{old_name}\"\n",
        "            print(f\"Renaming file {name} to {new_name}\")\n",
        "            p.rename(new_name)\n",
        "\n",
        "            # ในโจทย์เป็นแบบนี้\n",
        "            #  shortname = name.split(\"_\")[0] # You need to split the name by underscore\n",
        "            #  new_name = f\"{shortname}_longhorn\""
      ],
      "execution_count": null,
      "outputs": [
        {
          "output_type": "stream",
          "text": [
            "Processing file: /content/healthcheck.txt\n",
            "Processing file: /content/healthcheck.sh\n",
            "Processing file: /content/.config/.last_survey_prompt.yaml\n",
            "Processing file: /content/.config/active_config\n",
            "Processing file: /content/.config/config_sentinel\n",
            "Processing file: /content/.config/.last_opt_in_prompt.yaml\n",
            "Processing file: /content/.config/.last_update_check.json\n",
            "Processing file: /content/.config/gce\n",
            "Processing file: /content/.config/logs/2021.06.01/13.39.46.598129.log\n",
            "Processing file: /content/.config/logs/2021.06.01/13.40.26.776675.log\n",
            "Processing file: /content/.config/logs/2021.06.01/13.40.44.102103.log\n",
            "Processing file: /content/.config/logs/2021.06.01/13.40.43.432793.log\n",
            "Processing file: /content/.config/logs/2021.06.01/13.40.21.024150.log\n",
            "Processing file: /content/.config/logs/2021.06.01/13.40.05.370650.log\n",
            "Processing file: /content/.config/configurations/config_default\n",
            "Processing file: /content/sample_data/README.md\n",
            "Processing file: /content/sample_data/anscombe.json\n",
            "Processing file: /content/sample_data/f_2.txt\n",
            "Renaming file f_2.txt to file_2.txt\n",
            "Processing file: /content/sample_data/f_0.txt\n",
            "Renaming file f_0.txt to file_0.txt\n",
            "Processing file: /content/sample_data/f_1.txt\n",
            "Renaming file f_1.txt to file_1.txt\n",
            "Processing file: /content/sample_data/california_housing_test.csv\n",
            "Processing file: /content/sample_data/mnist_train_small.csv\n",
            "Processing file: /content/sample_data/california_housing_train.csv\n",
            "Processing file: /content/sample_data/mnist_test.csv\n"
          ],
          "name": "stdout"
        }
      ]
    },
    {
      "cell_type": "markdown",
      "metadata": {
        "id": "p-k5mOj_Eqbi"
      },
      "source": [
        "Use the `os.walk` module to find serialized models and test them for accuracy.\n",
        "\n",
        "*   Walk the the file system path `my` using `os.walk`.\n",
        "*   Look for a file extension named `.joblib` and load the model into `clf` using joblib's `load()` function.\n",
        "*   Use `sklearn` to predict from the unpickled model by loading it into `clf.predict()` and pass the input data `X_digits` to it (X_digits is already in memory).\n",
        "*  Print your predictions."
      ]
    },
    {
      "cell_type": "code",
      "metadata": {
        "colab": {
          "base_uri": "https://localhost:8080/"
        },
        "id": "51b2h0FUB-Sk",
        "outputId": "e44bf83b-010a-437f-8e36-aa5379afd3cb"
      },
      "source": [
        "%%file pca.py\n",
        "\n",
        "from sklearn import linear_model, decomposition, datasets\n",
        "from sklearn.pipeline import Pipeline\n",
        "from sklearn.externals import joblib\n",
        "import numpy as np\n",
        "\n",
        "logistic = linear_model.LogisticRegression()\n",
        "pca = decomposition.PCA()\n",
        "pipe = Pipeline(steps=[('pca', pca), ('logistic', logistic)])\n",
        "digits = datasets.load_digits()\n",
        "X_digits = digits.data\n",
        "y_digits = digits.target\n",
        "pca.fit(X_digits)\n",
        "\n",
        "## Pickle out Model\n",
        "joblib.dump(pca, '/content/digits_prediction.joblib')\n"
      ],
      "execution_count": null,
      "outputs": [
        {
          "output_type": "stream",
          "text": [
            "Writing pca.py\n"
          ],
          "name": "stdout"
        }
      ]
    },
    {
      "cell_type": "markdown",
      "metadata": {
        "id": "5Hhi_JnBIgOZ"
      },
      "source": [
        "The code below cannot be run due to the `joblib` file cannot be copied."
      ]
    },
    {
      "cell_type": "code",
      "metadata": {
        "id": "vUfU5Eb9Ga7l"
      },
      "source": [
        "import os\n",
        "from pca import X_digits # โจทยเป้น my.models.pca ทั้งนี้ขึ้นอยู่กับการเขียน directories\n",
        "from sklearn.externals import joblib\n",
        "\n",
        "# Walk the filesystem starting at the /content path\n",
        "for root, _, files in os.walk('/content'):\n",
        "    for name in files:\n",
        "      \t# Create the full path to the file by using os.path.join()\n",
        "        fullpath = os.path.join(root, name)\n",
        "        print(f\"Processing file: {fullpath}\")\n",
        "        _, ext = os.path.splitext(fullpath)\n",
        "        # Match the extension pattern .joblib\n",
        "        if ext == \".joblib\":\n",
        "            clf = joblib.load(fullpath)\n",
        "            break\n",
        "\n",
        "# Predict from pickled model\n",
        "print(clf.transform(X_digits))\n"
      ],
      "execution_count": null,
      "outputs": []
    },
    {
      "cell_type": "markdown",
      "metadata": {
        "id": "cZbgPgyPuzMc"
      },
      "source": [
        "#  **`Pathlib.Path.glob()`**\n",
        "`Pathlib.Path.glob()` does \n",
        "\n",
        "  *  find patterns in directories \n",
        "  *  yield matches\n",
        "  *  recursively search directories"
      ]
    },
    {
      "cell_type": "markdown",
      "metadata": {
        "id": "axGBMEOXwB6B"
      },
      "source": [
        "## Simple **`Pathlib.path.glob()`** pattern"
      ]
    },
    {
      "cell_type": "code",
      "metadata": {
        "colab": {
          "base_uri": "https://localhost:8080/"
        },
        "id": "zrluxDMgGni9",
        "outputId": "0dfd1341-1f33-4615-aa67-c6ece73b6e74"
      },
      "source": [
        "from pathlib import Path\n",
        "\n",
        "path = Path(\"/content/sample_data/\")\n",
        "list(path.glob(\"*.csv\"))"
      ],
      "execution_count": null,
      "outputs": [
        {
          "output_type": "execute_result",
          "data": {
            "text/plain": [
              "[PosixPath('/content/sample_data/california_housing_test.csv'),\n",
              " PosixPath('/content/sample_data/mnist_train_small.csv'),\n",
              " PosixPath('/content/sample_data/california_housing_train.csv'),\n",
              " PosixPath('/content/sample_data/mnist_test.csv')]"
            ]
          },
          "metadata": {
            "tags": []
          },
          "execution_count": 6
        }
      ]
    },
    {
      "cell_type": "markdown",
      "metadata": {
        "id": "cA8H2mbUwKsx"
      },
      "source": [
        "## **Recursive `Pathlib.path.glob()` patterns**"
      ]
    },
    {
      "cell_type": "code",
      "metadata": {
        "colab": {
          "base_uri": "https://localhost:8080/"
        },
        "id": "1PJ8QLRaGn9J",
        "outputId": "119e0391-07cb-43d3-b179-e1f39664ef20"
      },
      "source": [
        "from pathlib import Path\n",
        "\n",
        "path = Path(\"/content\")\n",
        "list(path.glob(\"**/*.csv\"))"
      ],
      "execution_count": null,
      "outputs": [
        {
          "output_type": "execute_result",
          "data": {
            "text/plain": [
              "[PosixPath('/content/sample_data/california_housing_test.csv'),\n",
              " PosixPath('/content/sample_data/mnist_train_small.csv'),\n",
              " PosixPath('/content/sample_data/california_housing_train.csv'),\n",
              " PosixPath('/content/sample_data/mnist_test.csv')]"
            ]
          },
          "metadata": {
            "tags": []
          },
          "execution_count": 10
        }
      ]
    },
    {
      "cell_type": "markdown",
      "metadata": {
        "id": "b2J2a_zpxJ8p"
      },
      "source": [
        "#  **Using `os.walk` to find patterns**\n",
        "*   returns directory path\n",
        "*   directory names\n",
        "*   filenames"
      ]
    },
    {
      "cell_type": "code",
      "metadata": {
        "colab": {
          "base_uri": "https://localhost:8080/"
        },
        "id": "d57J7szywtF8",
        "outputId": "6b44611d-4c87-420e-eb8e-59de47ed9164"
      },
      "source": [
        "import os\n",
        "result = os.walk(\"/content\")\n",
        "# consume the generator\n",
        "print(next(result))\n",
        "print(next(result))\n",
        "print(next(result))\n",
        "print(next(result))\n",
        "print(next(result))\n",
        "print(next(result))\n"
      ],
      "execution_count": null,
      "outputs": [
        {
          "output_type": "stream",
          "text": [
            "('/content', ['.config', 'sample_data'], [])\n",
            "('/content/.config', ['logs', 'configurations'], ['.last_survey_prompt.yaml', 'active_config', 'config_sentinel', '.last_opt_in_prompt.yaml', '.last_update_check.json', 'gce'])\n",
            "('/content/.config/logs', ['2021.06.01'], [])\n",
            "('/content/.config/logs/2021.06.01', [], ['13.39.46.598129.log', '13.40.26.776675.log', '13.40.44.102103.log', '13.40.43.432793.log', '13.40.21.024150.log', '13.40.05.370650.log'])\n",
            "('/content/.config/configurations', [], ['config_default'])\n",
            "('/content/sample_data', [], ['README.md', 'anscombe.json', 'california_housing_test.csv', 'mnist_train_small.csv', 'california_housing_train.csv', 'mnist_test.csv'])\n"
          ],
          "name": "stdout"
        }
      ]
    },
    {
      "cell_type": "markdown",
      "metadata": {
        "id": "btQEm8sryare"
      },
      "source": [
        "#  **Using `fnmatch.fnmatch()`**\n",
        "*  Tests if a pattern is True or False\n",
        "*  Can be converted to regular expression "
      ]
    },
    {
      "cell_type": "code",
      "metadata": {
        "id": "ZIHSsrXNx0y1"
      },
      "source": [
        "from fnmatch import fnmatch\n",
        "\n",
        "if fnmatch(\"/content/sample_data/\", \"*.csv\"):\n",
        "    log.info(f\"Found match {file}\")"
      ],
      "execution_count": null,
      "outputs": []
    },
    {
      "cell_type": "markdown",
      "metadata": {
        "id": "4Ys13xo-zbYL"
      },
      "source": [
        "#  **Converting fnmatch to regular expression**\n",
        "*   The `fnmatch.translate()` function has the ability to take a unix wildcard and translate it into a regular expression.\n",
        "*   "
      ]
    },
    {
      "cell_type": "code",
      "metadata": {
        "colab": {
          "base_uri": "https://localhost:8080/"
        },
        "id": "Roy4Iz6Oy3Zm",
        "outputId": "3aae4106-3c7b-4b97-e365-ffcf65efa9e7"
      },
      "source": [
        "import fnmatch, re\n",
        "\n",
        "regex = fnmatch.translate('*.csv')\n",
        "pattern = re.compile(regex)\n",
        "print(pattern)"
      ],
      "execution_count": null,
      "outputs": [
        {
          "output_type": "stream",
          "text": [
            "re.compile('(?s:.*\\\\.csv)\\\\Z')\n"
          ],
          "name": "stdout"
        }
      ]
    },
    {
      "cell_type": "code",
      "metadata": {
        "colab": {
          "base_uri": "https://localhost:8080/"
        },
        "id": "a5XC-CTVzzjJ",
        "outputId": "fc5a9b0b-5dd9-435e-d4d4-4d4a956924d7"
      },
      "source": [
        "pattern.match(\"/content/sample_data/mnist_test.csv\")"
      ],
      "execution_count": null,
      "outputs": [
        {
          "output_type": "execute_result",
          "data": {
            "text/plain": [
              "<re.Match object; span=(0, 35), match='/content/sample_data/mnist_test.csv'>"
            ]
          },
          "metadata": {
            "tags": []
          },
          "execution_count": 34
        }
      ]
    },
    {
      "cell_type": "markdown",
      "metadata": {
        "id": "A1TJa8iF1hfY"
      },
      "source": [
        "The code below does the followings:\n",
        "*  Use `pathlib.Path` to make a `Path` object for the `/content/sample_data` directory.\n",
        "*  Use `.glob` on the Path object to filter the `.csv` pattern.\n",
        "*  Print out all matches to the `.glob` pattern."
      ]
    },
    {
      "cell_type": "code",
      "metadata": {
        "colab": {
          "base_uri": "https://localhost:8080/"
        },
        "id": "c_ZeIeavz63Y",
        "outputId": "bf332ef0-b5fb-48e2-b088-07de573cf64f"
      },
      "source": [
        "from pathlib import Path\n",
        "import os\n",
        "\n",
        "path = Path(\"/content/sample_data\")\n",
        "matches = sorted(path.glob(\"*.csv\"))\n",
        "for match in matches:\n",
        "    print(f\"Found .csv file in sample_data: {match}\")"
      ],
      "execution_count": null,
      "outputs": [
        {
          "output_type": "stream",
          "text": [
            "Found .csv file in sample_data: /content/sample_data/california_housing_test.csv\n",
            "Found .csv file in sample_data: /content/sample_data/california_housing_train.csv\n",
            "Found .csv file in sample_data: /content/sample_data/mnist_test.csv\n",
            "Found .csv file in sample_data: /content/sample_data/mnist_train_small.csv\n"
          ],
          "name": "stdout"
        }
      ]
    },
    {
      "cell_type": "markdown",
      "metadata": {
        "id": "nu2_1FLs2hCJ"
      },
      "source": [
        "The code below uses the `fnmatch.filter` function to filter for `csv` files from a list of files."
      ]
    },
    {
      "cell_type": "code",
      "metadata": {
        "colab": {
          "base_uri": "https://localhost:8080/"
        },
        "id": "h3mXI8xG2DlN",
        "outputId": "5cf8b3a5-6c12-4cac-e2b2-092930d80ebe"
      },
      "source": [
        "import fnmatch\n",
        "\n",
        "# List of file names to process\n",
        "files = [\"data1.csv\", \"script.py\", \"image.png\", \"data2.csv\", \"all.py\"]\n",
        "\n",
        "# Function that returns \n",
        "def csv_matches(list_of_files):\n",
        "    \"\"\"Return matches for csv files\"\"\"\n",
        "\n",
        "    matches = fnmatch.filter(list_of_files, \"*.csv\")\n",
        "    return matches\n",
        "\n",
        "# Call function to find matches\n",
        "matches = csv_matches(files)\n",
        "print(f\"Found matches: {matches}\")\n"
      ],
      "execution_count": null,
      "outputs": [
        {
          "output_type": "stream",
          "text": [
            "Found matches: ['data1.csv', 'data2.csv']\n"
          ],
          "name": "stdout"
        }
      ]
    },
    {
      "cell_type": "markdown",
      "metadata": {
        "id": "fwCQ6F86fagn"
      },
      "source": [
        "#   **Using `shutil.copytree`**\n",
        "\n",
        "*  Can copy an entire tree of files and directories recursively. \n",
        "*  Can ignore patterns \n",
        "\n",
        "```\n",
        "from shutil import copytree, ignore_patterns\n",
        "\n",
        "copytree(source, destination, ignore=ignore_patterns('*.txt',\n",
        "'*.excel'))\n",
        "```\n",
        "\n",
        "\n",
        "\n"
      ]
    },
    {
      "cell_type": "code",
      "metadata": {
        "colab": {
          "base_uri": "https://localhost:8080/"
        },
        "id": "wbG_VL5i3w-y",
        "outputId": "3bf732b2-2641-4239-cf85-c30b8861a7ed"
      },
      "source": [
        "from shutil import copytree\n",
        "\n",
        "!pwd\n",
        "# A directory and a file are created. \n",
        "!mkdir sometree && touch sometree/somefile.txt\n",
        "\n",
        "# The copy tree function is used to copy the entire tree to a destination called newtree.\n",
        "copytree(\"sometree\", \"newtree\")\n",
        "\n",
        "!ls -l newtree/"
      ],
      "execution_count": null,
      "outputs": [
        {
          "output_type": "stream",
          "text": [
            "/content\n",
            "total 0\n",
            "-rw-r--r-- 1 root root 0 Jun 14 07:54 somefile.txt\n"
          ],
          "name": "stdout"
        }
      ]
    },
    {
      "cell_type": "markdown",
      "metadata": {
        "id": "dJNDYnF-hos1"
      },
      "source": [
        "# **Safely deleting a tree of data by `shutil.rmtree`**\n",
        "\n",
        "```\n",
        "from shutil import rmtree\n",
        "\n",
        "rmtree(source, destination)\n",
        "```\n",
        "# **Safely archiving a tree by `shutil.make_archive`**\n",
        "\n",
        "```\n",
        "from shutil import make_archive\n",
        "\n",
        "make_archive(\"somearchive\", \"gztar\", \"inside_tmp_dir\")\n",
        "```\n",
        "*  `gzip` is used to compress files\n",
        "*  `tar` bundles multiple items into a package \n",
        "*   When both are used together it creates a compressed archive.\n",
        "\n",
        "```\n",
        "'/tmp/somearchive.tar.gz'\n",
        "```\n",
        "\n",
        "\n",
        "\n"
      ]
    },
    {
      "cell_type": "markdown",
      "metadata": {
        "id": "fQD5gJxfj2O9"
      },
      "source": [
        "### **Create temp file.**\n",
        "\n",
        "* Use `tempfile.NamedTemporaryFile` to create a named temporary file.\n",
        "* Write a message to it and verify it was written.\n",
        "* Verify temporary file was destroyed using `os.path.exists`."
      ]
    },
    {
      "cell_type": "code",
      "metadata": {
        "colab": {
          "base_uri": "https://localhost:8080/"
        },
        "id": "W99OSUGZg7Ek",
        "outputId": "9e74262a-df65-4c93-b0e8-29915dcb84a2"
      },
      "source": [
        "import tempfile\n",
        "import os\n",
        "\n",
        "# Create a self-destructing temporary file\n",
        "with tempfile.NamedTemporaryFile() as exploding_file:\n",
        "  \t# This file will be deleted automatically after the with statement block\n",
        "    print(f\"Temp file created: {exploding_file.name}\")\n",
        "    exploding_file.write(b\"This message will self-destruct in 5....4...\\n\")\n",
        "    \n",
        "    # Get to the top of the file\n",
        "    exploding_file.seek(0)\n",
        "\n",
        "    #Print the message\n",
        "    print(exploding_file.read())\n",
        "\n",
        "# Check to sure file self-destructed\n",
        "if not os.path.exists(exploding_file.name): \n",
        "    print(f\"self-destruction verified: {exploding_file.name}\")\n"
      ],
      "execution_count": null,
      "outputs": [
        {
          "output_type": "stream",
          "text": [
            "Temp file created: /tmp/tmpxejj1kzw\n",
            "b'This message will self-destruct in 5....4...\\n'\n",
            "self-destruction verified: /tmp/tmpxejj1kzw\n"
          ],
          "name": "stdout"
        }
      ]
    },
    {
      "cell_type": "markdown",
      "metadata": {
        "id": "jC-yozxbmoOo"
      },
      "source": [
        "### **Archive users**\n",
        "\n",
        "Write an automation script that will archive all user folders and email them the archived copy. \n",
        "\n",
        "Use the `shutil.archive` function to archive a user directory. You will create two archive types: `gztar` and `zip`.\n",
        "\n",
        "*  `apath` is the path where the tree is archived and string arguments \"`zip`\" and \"`gztar`\" can create the two archives.\n",
        "*  Archive the user folder copied to the location `/content`.\n",
        "*  Create a `tar` and `gzipped` archive and a `zip` archive.\n",
        "*  Print both archive files out using `os.listdir()`."
      ]
    },
    {
      "cell_type": "code",
      "metadata": {
        "id": "Bjqk32xopbl8"
      },
      "source": [
        "!mkdir /content/archive"
      ],
      "execution_count": null,
      "outputs": []
    },
    {
      "cell_type": "code",
      "metadata": {
        "colab": {
          "base_uri": "https://localhost:8080/"
        },
        "id": "E_FZn93KlWii",
        "outputId": "2967699b-6096-4509-a2f6-3db14167c09f"
      },
      "source": [
        "from shutil import make_archive\n",
        "import os\n",
        "\n",
        "# Archive root\n",
        "username = \"user1\"\n",
        "root_dir = \"/content\"\n",
        "apath = \"/content/archive\"\n",
        "\n",
        "# Archive base\n",
        "final_archive_base = f\"{apath}/{username}\"\n",
        "\n",
        "# Create tar and gzipped archive\n",
        "make_archive(final_archive_base, \"gztar\", apath)\n",
        "\n",
        "# Create zip archive\n",
        "make_archive(final_archive_base, \"zip\", apath)\n",
        "\n",
        "# Print out archives\n",
        "print(os.listdir(apath))"
      ],
      "execution_count": null,
      "outputs": [
        {
          "output_type": "stream",
          "text": [
            "['user1.tar.gz', 'user1.zip']\n"
          ],
          "name": "stdout"
        }
      ]
    },
    {
      "cell_type": "code",
      "metadata": {
        "colab": {
          "base_uri": "https://localhost:8080/",
          "height": 35
        },
        "id": "HoTBjpjbpU8f",
        "outputId": "cdf3da5e-582f-4e42-ed57-173ef145f424"
      },
      "source": [
        "final_archive_base"
      ],
      "execution_count": null,
      "outputs": [
        {
          "output_type": "execute_result",
          "data": {
            "application/vnd.google.colaboratory.intrinsic+json": {
              "type": "string"
            },
            "text/plain": [
              "'/content/archive/user1'"
            ]
          },
          "metadata": {
            "tags": []
          },
          "execution_count": 12
        }
      ]
    },
    {
      "cell_type": "markdown",
      "metadata": {
        "id": "ZC23hkVY3M0B"
      },
      "source": [
        "# **`pathlib.Path`**\n",
        "*  `pathlib.Path.glob()` method is used to list all of the items at the current level of the directory."
      ]
    },
    {
      "cell_type": "code",
      "metadata": {
        "colab": {
          "base_uri": "https://localhost:8080/"
        },
        "id": "9BLw51M2pllG",
        "outputId": "34c8f2c3-3bc2-4143-f000-bc345e19f3cc"
      },
      "source": [
        "from pathlib import Path\n",
        "\n",
        "path = Path(\"/content\")\n",
        "list(path.glob(\"*\"))"
      ],
      "execution_count": null,
      "outputs": [
        {
          "output_type": "execute_result",
          "data": {
            "text/plain": [
              "[PosixPath('/content/.config'),\n",
              " PosixPath('/content/sometree'),\n",
              " PosixPath('/content/newtree'),\n",
              " PosixPath('/content/archive'),\n",
              " PosixPath('/content/sample_data')]"
            ]
          },
          "metadata": {
            "tags": []
          },
          "execution_count": 14
        }
      ]
    },
    {
      "cell_type": "code",
      "metadata": {
        "colab": {
          "base_uri": "https://localhost:8080/"
        },
        "id": "RGXXOHnu3oDl",
        "outputId": "e33946a0-f5ba-4bf7-8b93-be0606345b78"
      },
      "source": [
        "from pathlib import Path\n",
        "\n",
        "path = Path(\"/content\")\n",
        "# show what is the current working directory\n",
        "print(path.cwd())\n",
        "\n",
        "# show whether the object it represents actually exists.\n",
        "print(path.exists())\n",
        "\n",
        "# return the object as a full path\n",
        "print(path.as_posix())"
      ],
      "execution_count": null,
      "outputs": [
        {
          "output_type": "stream",
          "text": [
            "/content\n",
            "True\n",
            "/content\n"
          ],
          "name": "stdout"
        }
      ]
    },
    {
      "cell_type": "markdown",
      "metadata": {
        "id": "09gvakNB5JPv"
      },
      "source": [
        "# **Open a file with `pathlib`**"
      ]
    },
    {
      "cell_type": "code",
      "metadata": {
        "colab": {
          "base_uri": "https://localhost:8080/"
        },
        "id": "0HXIrBeb4ZRZ",
        "outputId": "a599bfc9-dbf3-4938-de4c-ce17dce9c92a"
      },
      "source": [
        "from pathlib import Path\n",
        "some_file = Path(\"/content/sample_data/README.md\")\n",
        "\n",
        "# Print the last line\n",
        "with some_file.open() as file_to_read:\n",
        "    print(file_to_read.readlines()[-1:])"
      ],
      "execution_count": null,
      "outputs": [
        {
          "output_type": "stream",
          "text": [
            "['    [vega_datasets library](https://github.com/altair-viz/vega_datasets/blob/4f67bdaad10f45e3549984e17e1b3088c731503d/vega_datasets/_data/anscombe.json).\\n']\n"
          ],
          "name": "stdout"
        }
      ]
    },
    {
      "cell_type": "markdown",
      "metadata": {
        "id": "9jkUb18V6SgC"
      },
      "source": [
        "#  **Create a directory with `pathlib`**\n",
        "\n",
        "* Once the `Path` object has been created, the `mkdir` method can be used to a create a directory."
      ]
    },
    {
      "cell_type": "code",
      "metadata": {
        "colab": {
          "base_uri": "https://localhost:8080/"
        },
        "id": "m5iP1hSH57D3",
        "outputId": "ca790cfb-4efc-4689-cd4b-80ee1d408c75"
      },
      "source": [
        "from pathlib import Path\n",
        "\n",
        "tmp = Path(\"/content/temporary_folder\")\n",
        "tmp.mkdir()\n",
        "!ls -l"
      ],
      "execution_count": null,
      "outputs": [
        {
          "output_type": "stream",
          "text": [
            "total 20\n",
            "drwxr-xr-x 2 root root 4096 Jun 14 08:31 archive\n",
            "drwxr-xr-x 2 root root 4096 Jun 14 07:54 newtree\n",
            "drwxr-xr-x 1 root root 4096 Jun  1 13:40 sample_data\n",
            "drwxr-xr-x 2 root root 4096 Jun 14 07:54 sometree\n",
            "drwxr-xr-x 2 root root 4096 Jun 14 09:48 temporary_folder\n"
          ],
          "name": "stdout"
        }
      ]
    },
    {
      "cell_type": "markdown",
      "metadata": {
        "id": "tzkrwqvC7Ln7"
      },
      "source": [
        "# **Write text with `pathlib`**\n",
        "\n",
        "* Can create a file that does not yet exist and write something."
      ]
    },
    {
      "cell_type": "code",
      "metadata": {
        "colab": {
          "base_uri": "https://localhost:8080/"
        },
        "id": "DCpJCgUl65YI",
        "outputId": "cb6c86da-9c67-4bb9-89d1-2ea43eca8c56"
      },
      "source": [
        "from pathlib import Path\n",
        "\n",
        "write_path = Path(\"/content/some_random_file.txt\")\n",
        "write_path.write_text(\"Wow\")\n",
        "print(write_path.read_text())"
      ],
      "execution_count": null,
      "outputs": [
        {
          "output_type": "stream",
          "text": [
            "Wow\n"
          ],
          "name": "stdout"
        }
      ]
    },
    {
      "cell_type": "markdown",
      "metadata": {
        "id": "f7XiH2oV7-i4"
      },
      "source": [
        "# **Rename a file with `pathlib`**\n",
        "\n",
        "*   Renaming files in a script\n",
        "*   Walk a file system and rename files that match a specific pattern\n",
        "*   the `rename` function is used to rename the file"
      ]
    },
    {
      "cell_type": "code",
      "metadata": {
        "colab": {
          "base_uri": "https://localhost:8080/"
        },
        "id": "LEfo6oFm7yiN",
        "outputId": "3dd59275-f4e6-448c-e8bc-2cd0ad1eeebd"
      },
      "source": [
        "from pathlib import Path\n",
        "\n",
        "# Create a Path object\n",
        "modify_file = Path(\"/content/some_random_file.txt\")\n",
        "\n",
        "#rename file\n",
        "modify_file.rename(\"/content/some_random_file_renamed.txt\")\n",
        "\n",
        "!ls /content"
      ],
      "execution_count": null,
      "outputs": [
        {
          "output_type": "stream",
          "text": [
            "archive  sample_data\t\t       sometree\n",
            "newtree  some_random_file_renamed.txt  temporary_folder\n"
          ],
          "name": "stdout"
        }
      ]
    },
    {
      "cell_type": "markdown",
      "metadata": {
        "id": "tWLaK3nc9GgP"
      },
      "source": [
        "### **Find whether files exist**\n",
        "\n",
        "* Read in a `posts_index.txt` file to find paths.\n",
        "* Create `pathlib.Path` objects and use `.exists()` to check if the path is valid.\n",
        "* Use `post.strip()` to clean up the output of path you pass to `pathlib.Post`."
      ]
    },
    {
      "cell_type": "code",
      "metadata": {
        "id": "-pzfKTaf8xkz"
      },
      "source": [
        "!mkdir /content/socialposts\n",
        "!!mkdir /content/socialposts/2019\n",
        "!mkdir /content/socialposts/2019/june"
      ],
      "execution_count": null,
      "outputs": []
    },
    {
      "cell_type": "code",
      "metadata": {
        "colab": {
          "base_uri": "https://localhost:8080/"
        },
        "id": "DruHqlB9_JbG",
        "outputId": "be96a7ca-3bcd-4ef7-bd6f-d6ba794e6104"
      },
      "source": [
        "# Create files for this exercise\n",
        "\n",
        "from pathlib import Path\n",
        "\n",
        "Path(\"/content/socialposts/2019/june/post1.txt\").write_text(\"\")\n",
        "Path(\"/content/socialposts/2019/june/post3.txt\").write_text(\"\")\n",
        "Path(\"/content/socialposts/2019/june/post4.txt\").write_text(\"\")\n",
        "Path(\"/content/socialposts/2019/june/post9.txt\").write_text(\"\")"
      ],
      "execution_count": null,
      "outputs": [
        {
          "output_type": "execute_result",
          "data": {
            "text/plain": [
              "0"
            ]
          },
          "metadata": {
            "tags": []
          },
          "execution_count": 28
        }
      ]
    },
    {
      "cell_type": "code",
      "metadata": {
        "id": "hLIe2ZOJ_qmc"
      },
      "source": [
        "# Create posts_index.txt\n",
        "\n",
        "with open('posts_index.txt', 'w') as f:\n",
        "    for i in range(1, 11):\n",
        "        f.write(f\"/content/socialposts/2019/june/post{i}.txt\\n\")  \n"
      ],
      "execution_count": null,
      "outputs": []
    },
    {
      "cell_type": "code",
      "metadata": {
        "colab": {
          "base_uri": "https://localhost:8080/"
        },
        "id": "63bZmm7CBqKY",
        "outputId": "655d5538-80b3-4327-d35c-cd8d839fd72c"
      },
      "source": [
        "import pathlib\n",
        "\n",
        "# Read the index of social media posts\n",
        "with open(\"/content/posts_index.txt\") as posts:\n",
        "    for post in posts.readlines():\n",
        "        \n",
        "        # Create a pathlib object\n",
        "        path = pathlib.Path(post.strip())\n",
        "        \n",
        "        # Check if the social media post still exists on disk\n",
        "        if path.exists():\n",
        "            print(f\"Found active post: {post}\")\n",
        "        else:\n",
        "            print(f\"Post is missing: {post}\")\n"
      ],
      "execution_count": null,
      "outputs": [
        {
          "output_type": "stream",
          "text": [
            "Found active post: /content/socialposts/2019/june/post1.txt\n",
            "\n",
            "Post is missing: /content/socialposts/2019/june/post2.txt\n",
            "\n",
            "Found active post: /content/socialposts/2019/june/post3.txt\n",
            "\n",
            "Found active post: /content/socialposts/2019/june/post4.txt\n",
            "\n",
            "Post is missing: /content/socialposts/2019/june/post5.txt\n",
            "\n",
            "Post is missing: /content/socialposts/2019/june/post6.txt\n",
            "\n",
            "Post is missing: /content/socialposts/2019/june/post7.txt\n",
            "\n",
            "Post is missing: /content/socialposts/2019/june/post8.txt\n",
            "\n",
            "Found active post: /content/socialposts/2019/june/post9.txt\n",
            "\n",
            "Post is missing: /content/socialposts/2019/june/post10.txt\n",
            "\n"
          ],
          "name": "stdout"
        }
      ]
    },
    {
      "cell_type": "markdown",
      "metadata": {
        "id": "XSkNY6GMCd8M"
      },
      "source": [
        "Create an integration script that creates several Python files and writes Python to them. After that run them all with `python3` and `subprocess` to obtain the scripts' output.\n",
        "\n",
        "*  Use `pathlib.write_text` to write to create and write files.\n",
        "*  Use `Path` and `.glob` to find these files.\n",
        "*  Run all the matching `python` scripts using `subprocess.run` method."
      ]
    },
    {
      "cell_type": "code",
      "metadata": {
        "colab": {
          "base_uri": "https://localhost:8080/"
        },
        "id": "b4REMsiwCBpC",
        "outputId": "235482f2-54b4-4e87-bc96-ad54efc1631c"
      },
      "source": [
        "from subprocess import run, PIPE\n",
        "from pathlib import Path\n",
        "\n",
        "# Find all the python files you created and print them out\n",
        "for i in range(3):\n",
        "    path = Path(f\"/content/file_{i}.py\")\n",
        "    path.write_text(\"#!/usr/bin/env python\\n\")\n",
        "    path.write_text(\"import datetime;print(datetime.datetime.now())\")\n",
        "  \n",
        "\n",
        "# Find all the python files you created and print them out\n",
        "for file in Path(\"/content\").glob(\"*.py\"):\n",
        "   # Gets the resolved full path\n",
        "   fullpath = str(file.resolve())\n",
        "   proc = run([\"python3\", fullpath], stdout=PIPE)\n",
        "   print(proc)\n"
      ],
      "execution_count": null,
      "outputs": [
        {
          "output_type": "stream",
          "text": [
            "CompletedProcess(args=['python3', '/content/file_0.py'], returncode=0, stdout=b'2021-06-14 10:27:58.216740\\n')\n",
            "CompletedProcess(args=['python3', '/content/file_2.py'], returncode=0, stdout=b'2021-06-14 10:27:58.274268\\n')\n",
            "CompletedProcess(args=['python3', '/content/file_1.py'], returncode=0, stdout=b'2021-06-14 10:27:58.323932\\n')\n"
          ],
          "name": "stdout"
        }
      ]
    },
    {
      "cell_type": "markdown",
      "metadata": {
        "id": "W1PXn92F2CAH"
      },
      "source": [
        "# **Decorators**\n",
        "\n",
        "*  Below is an example of how to write a decorator that \n",
        "  *  prints out the `time` a function it wraps will take to execute. \n",
        "  *  prints out the `name` of the function and the `arguments` and `keyword arguments` that are passed in.\n",
        "\n",
        "*  This is accomplished by importing the `wraps` module from `functools`. (ไม่งั้น จะ print พวก metadata ของฟังก์ชันที่เอาไปครอบไม่ได้)\n"
      ]
    },
    {
      "cell_type": "code",
      "metadata": {
        "colab": {
          "base_uri": "https://localhost:8080/",
          "height": 90
        },
        "id": "09S3Xo5kEEcz",
        "outputId": "d23deac7-b641-40a8-b54e-a5fbaed048a0"
      },
      "source": [
        "from functools import wraps\n",
        "import time\n",
        "\n",
        "def instrument(f):\n",
        "    @wraps(f)\n",
        "    def wrap(*args, **kwargs):\n",
        "        ts = time.time()\n",
        "        result = f(*args, **kwargs)\n",
        "        te = time.time()\n",
        "        print(args)\n",
        "        print(kwargs) # ไม่เข้าใจ ทำไมไม่ออก\n",
        "        print(f\"function: {f.__name__}, args: [{args}, {kwargs}] took: {te-ts} sec\")\n",
        "        return result\n",
        "    return wrap\n",
        "\n",
        "@instrument\n",
        "def lazy_work(x,y, sleep=1):\n",
        "    \"\"\"Sleeps then works\"\"\"\n",
        "    time.sleep(sleep)\n",
        "    return x+y\n",
        "\n",
        "lazy_work(4,9, sleep=2)\n",
        "lazy_work.__doc__"
      ],
      "execution_count": null,
      "outputs": [
        {
          "output_type": "stream",
          "text": [
            "(4, 9)\n",
            "{'sleep': 2}\n",
            "function: lazy_work, args: [(4, 9), {'sleep': 2}] took: 2.002094030380249 sec\n"
          ],
          "name": "stdout"
        },
        {
          "output_type": "execute_result",
          "data": {
            "application/vnd.google.colaboratory.intrinsic+json": {
              "type": "string"
            },
            "text/plain": [
              "'Sleeps then works'"
            ]
          },
          "metadata": {
            "tags": []
          },
          "execution_count": 7
        }
      ]
    },
    {
      "cell_type": "markdown",
      "metadata": {
        "id": "W20gHfp920Bv"
      },
      "source": [
        "# **How does a decorator work?**"
      ]
    },
    {
      "cell_type": "code",
      "metadata": {
        "colab": {
          "base_uri": "https://localhost:8080/"
        },
        "id": "L9mOWyWP70HU",
        "outputId": "263d49f7-2a2e-4712-d621-d9884dedbc3a"
      },
      "source": [
        "from functools import wraps\n",
        "\n",
        "def do_nothing_decorator(f):\n",
        "    @wraps(f)\n",
        "    def wrapper(*args, **kwds):\n",
        "        print('INSIDE DECORATOR: This is called before function')\n",
        "        return f(*args, **kwds)\n",
        "    return wrapper\n",
        "\n",
        "@do_nothing_decorator\n",
        "def hello_world():\n",
        "    \"\"\"This is a hello world function\"\"\"\n",
        "    print(\"Hello World Function\")\n",
        "\n",
        "hello_world()\n"
      ],
      "execution_count": null,
      "outputs": [
        {
          "output_type": "stream",
          "text": [
            "INSIDE DECORATOR: This is called before function\n",
            "Hello World Function\n"
          ],
          "name": "stdout"
        }
      ]
    },
    {
      "cell_type": "code",
      "metadata": {
        "colab": {
          "base_uri": "https://localhost:8080/"
        },
        "id": "yBg1s6nx_aKF",
        "outputId": "2c1d8f3e-b847-4d2e-d6e5-3f5ab7c87f9f"
      },
      "source": [
        "# Name and docstring is preserved\n",
        "print(f\"Function Name: {hello_world.__name__}\")\n",
        "print(f\"Function Name: {hello_world.__doc__}\")                "
      ],
      "execution_count": null,
      "outputs": [
        {
          "output_type": "stream",
          "text": [
            "Function Name: hello_world\n",
            "Function Name: This is a hello world function\n"
          ],
          "name": "stdout"
        }
      ]
    },
    {
      "cell_type": "markdown",
      "metadata": {
        "id": "08X5wAPpjBV1"
      },
      "source": [
        "Write an integration test that verifies that your cloud environment can run `KMeans` clustering algorithms.\n",
        "\n",
        "Write two functions that make your code ready to be run by a command line tool library.\n",
        "\n",
        "*  Create a function that makes blobs using the `sklearn.datasets.samples_generator.make_blobs` library. These blobs are sample data that will be used to create clusters. It accepts `n_samples`, `centers`, `random_state`.\n",
        "*  Create a function that performs `KMeans` clustering. "
      ]
    },
    {
      "cell_type": "code",
      "metadata": {
        "colab": {
          "base_uri": "https://localhost:8080/"
        },
        "id": "P5Bumebk_yXQ",
        "outputId": "14491eab-8cde-4af3-8069-ce83274a53d4"
      },
      "source": [
        "from sklearn.datasets.samples_generator import make_blobs\n",
        "from sklearn.cluster import KMeans\n",
        "\n",
        "# Create sample blobs from sklearn datasets\n",
        "def blobs():\n",
        "    X, y = make_blobs(n_samples=10, centers=3, n_features=2,random_state=0)\n",
        "    return X,y\n",
        "  \n",
        "# Perform KMeans cluster\n",
        "def cluster(X, random_state=170, num=2):\n",
        "    return KMeans(n_clusters=num, random_state=random_state).fit_predict(X) # Returns cluster assignment\n",
        "\n",
        "# Run everything:  Call both functions. X creates the data and cluster clusters the data.\n",
        "def main():\n",
        "    X,_ = blobs()\n",
        "    return cluster(X)\n",
        "\n",
        "# Print the KMeans cluster assignments\n",
        "print(main()) \n"
      ],
      "execution_count": null,
      "outputs": [
        {
          "output_type": "stream",
          "text": [
            "/usr/local/lib/python3.7/dist-packages/sklearn/utils/deprecation.py:144: FutureWarning: The sklearn.datasets.samples_generator module is  deprecated in version 0.22 and will be removed in version 0.24. The corresponding classes / functions should instead be imported from sklearn.datasets. Anything that cannot be imported from sklearn.datasets is now part of the private API.\n",
            "  warnings.warn(message, FutureWarning)\n"
          ],
          "name": "stderr"
        },
        {
          "output_type": "stream",
          "text": [
            "[1 1 0 1 1 0 1 0 0 1]\n"
          ],
          "name": "stdout"
        }
      ]
    },
    {
      "cell_type": "markdown",
      "metadata": {
        "id": "3qILnljnkr6s"
      },
      "source": [
        "Create an integration test that loops over decorators you create and prints out the names of the decorated functions. Use this approach to verify two decorated function names.\n",
        "\n",
        "* Decorate two functions with the decorator `@nothing` which has been imported for you.\n",
        "* Put both uncalled functions into a list.\n",
        "* Print the name of each function by using a `for` loop to pull them out of a list."
      ]
    },
    {
      "cell_type": "code",
      "metadata": {
        "colab": {
          "base_uri": "https://localhost:8080/"
        },
        "id": "wWRTg3zBkNjT",
        "outputId": "37e1252b-e8e3-4b31-b3ba-11ab27e86b4a"
      },
      "source": [
        "from functools import wraps\n",
        "\n",
        "def nothing(f):\n",
        "    @wraps(f)\n",
        "    def wrapper(*args, **kwds):\n",
        "        return f(*args, **kwds)\n",
        "    return wrapper\n",
        "\n",
        "# Decorate first function\n",
        "@nothing\n",
        "def something():\n",
        "    pass\n",
        "\n",
        "# Decorate second function\n",
        "@nothing\n",
        "def another():\n",
        "    pass\n",
        "\n",
        "# Put uncalled function into a list and print name  \n",
        "funcs = [something, another]\n",
        "for func in funcs:\n",
        "    print(f\"function name: {func.__name__}\")"
      ],
      "execution_count": null,
      "outputs": [
        {
          "output_type": "stream",
          "text": [
            "function name: something\n",
            "function name: another\n"
          ],
          "name": "stdout"
        }
      ]
    },
    {
      "cell_type": "markdown",
      "metadata": {
        "id": "k05eWfHqllGz"
      },
      "source": [
        "# **Debugging decorator**\n",
        "\n",
        "Write a debugging decorator that interns can use that will print out both the arguments and the keyword arguments when they are applied to a function. \n",
        "\n",
        "* Create a decorator that prints the `*args` and `**kw` arguments passed into it.\n",
        "* Apply that decorator to the `mult` function and run it."
      ]
    },
    {
      "cell_type": "code",
      "metadata": {
        "colab": {
          "base_uri": "https://localhost:8080/"
        },
        "id": "WPMhx_8flhKR",
        "outputId": "149e32ef-d94b-4a12-86c4-538142dfa0ab"
      },
      "source": [
        "from functools import wraps\n",
        "\n",
        "# Create decorator\n",
        "def debug(f):\n",
        "\t@wraps(f)\n",
        "\tdef wrap(*args, **kw):\n",
        "\t\tresult = f(*args, **kw)\n",
        "\t\tprint(f\"function name: {f.__name__}, args: [{args}], kwargs: [{kw}]\")\n",
        "\t\treturn result\n",
        "\treturn wrap\n",
        "  \n",
        "# Apply decorator\n",
        "@debug\n",
        "def mult(x, y=10):\n",
        "\treturn x*y\n",
        "print(mult(5, y=5))\n"
      ],
      "execution_count": null,
      "outputs": [
        {
          "output_type": "stream",
          "text": [
            "function name: mult, args: [(5,)], kwargs: [{'y': 5}]\n",
            "25\n"
          ],
          "name": "stdout"
        }
      ]
    },
    {
      "cell_type": "markdown",
      "metadata": {
        "id": "E3pURlGQnSu_"
      },
      "source": [
        "#  **Use `sys.argv`**\n",
        "\n",
        "The `sys.argv` module captures input to a script as a list."
      ]
    },
    {
      "cell_type": "code",
      "metadata": {
        "colab": {
          "base_uri": "https://localhost:8080/"
        },
        "id": "3EXEDssbmdS5",
        "outputId": "8a71e3c8-88f6-4e46-aa5b-5744c65cb9c9"
      },
      "source": [
        "import sys\n",
        "print(sys.argv)"
      ],
      "execution_count": null,
      "outputs": [
        {
          "output_type": "stream",
          "text": [
            "['/usr/local/lib/python3.7/dist-packages/ipykernel_launcher.py', '-f', '/root/.local/share/jupyter/runtime/kernel-ff012712-9cf5-4ed4-bf06-71fe19ec66cb.json']\n"
          ],
          "name": "stdout"
        }
      ]
    },
    {
      "cell_type": "markdown",
      "metadata": {
        "id": "eOuMqfYnoKb-"
      },
      "source": [
        "#  **Writing a script with `sys.argv`**"
      ]
    },
    {
      "cell_type": "code",
      "metadata": {
        "colab": {
          "base_uri": "https://localhost:8080/"
        },
        "id": "BMRejcKPnerw",
        "outputId": "d5a160f2-86b9-4a1c-f140-bbb046c70d60"
      },
      "source": [
        "%%file hello_argv.py\n",
        "import sys\n",
        "def hello(user_input):\n",
        "    print(f\"From a user: {user_input}\")\n",
        "\n",
        "if __name__ == \"__main__\":\n",
        "    arg1 = sys.argv[1]\n",
        "    print(f\"sys.argv = {sys.argv}\")\n",
        "    hello(arg1)"
      ],
      "execution_count": null,
      "outputs": [
        {
          "output_type": "stream",
          "text": [
            "Overwriting hello_argv.py\n"
          ],
          "name": "stdout"
        }
      ]
    },
    {
      "cell_type": "markdown",
      "metadata": {
        "id": "6ezAeSsdo2Tw"
      },
      "source": [
        "#  **Parsing input from script**\n",
        "\n",
        "To call the script that was created from the command line:\n",
        "\n",
        "1.   `python interpretor` is first invoked.  (Shell command `python`) \n",
        "2.    Next the name of the script \n",
        "3.   the input to be passed to the script\n",
        "\n"
      ]
    },
    {
      "cell_type": "code",
      "metadata": {
        "colab": {
          "base_uri": "https://localhost:8080/"
        },
        "id": "GVb_0gWwofvF",
        "outputId": "52633c20-0967-44ff-d525-9cefd6182e4e"
      },
      "source": [
        "!python hello_argv.py something"
      ],
      "execution_count": null,
      "outputs": [
        {
          "output_type": "stream",
          "text": [
            "sys.argv = ['hello_argv.py', 'something']\n",
            "From a user: something\n"
          ],
          "name": "stdout"
        }
      ]
    },
    {
      "cell_type": "code",
      "metadata": {
        "colab": {
          "base_uri": "https://localhost:8080/"
        },
        "id": "N0Ry7Q0mqJt6",
        "outputId": "fb4f5f23-c5cb-4c4c-f77f-232c3f132f25"
      },
      "source": [
        "!python hello_argv.py another"
      ],
      "execution_count": null,
      "outputs": [
        {
          "output_type": "stream",
          "text": [
            "sys.argv = ['hello_argv.py', 'another']\n",
            "From a user: another\n"
          ],
          "name": "stdout"
        }
      ]
    },
    {
      "cell_type": "markdown",
      "metadata": {
        "id": "z6FCGHF3rutJ"
      },
      "source": [
        "### **Using python command-line tools**\n",
        "\n",
        "There is a command-line executable written in python called `findit.py`.  It takes two arguments using `sys.argv` to process them.\n",
        "\n",
        "*  The first argument is the path to search (i.e. `/some/path`).\n",
        "*  The second is an optional argument that finds a file extension (i.e. `.pdf`). \n",
        "\n",
        "Use this script to search for files with the extension `.csv` in the `/content/sample_data`.\n",
        "\n",
        "The `findit.py` is created below.\n"
      ]
    },
    {
      "cell_type": "code",
      "metadata": {
        "colab": {
          "base_uri": "https://localhost:8080/"
        },
        "id": "ZGwTZMj_qM7n",
        "outputId": "5e5749f9-9423-41ec-b4b1-4ff9c5552924"
      },
      "source": [
        "%%file findit.py\n",
        "import os\n",
        "\n",
        "# Searches files and finds matches\n",
        "def find_files(path, extension=\".csv\"):\n",
        "    matches = []\n",
        "    for root, _, files in os.walk(path):\n",
        "        for name in files:\n",
        "            fullpath = os.path.join(root,name)\n",
        "            _ , ext = os.path.splitext(fullpath)\n",
        "            if ext == extension:\n",
        "                matches.append(fullpath)\n",
        "    return matches\n",
        "\n",
        "# block runs if called as a script\n",
        "if __name__ == \"__main__\":\n",
        "    import sys\n",
        "    args = sys.argv\n",
        "    print(f\"Arguments to sys.arg: {args}\")\n",
        "    # block to parse arguments\n",
        "    if not len(args) > 1:\n",
        "        print(f\"Pass in path and/or extension:  findit.py /some/path .csv\")\n",
        "        sys.exit(1)\n",
        "    if len(args) == 3:\n",
        "        result = find_files(path=args[1], extension=args[2])\n",
        "    elif len(args) == 2:\n",
        "        result = find_files(path=args[1])\n",
        "    else:\n",
        "        print(f\"Wrong number of arguments[{len(args)}] takes max of two\")\n",
        "        sys.exit(1)\n",
        "    print(f\"Found matches: {result}\")"
      ],
      "execution_count": 5,
      "outputs": [
        {
          "output_type": "stream",
          "text": [
            "Overwriting findit.py\n"
          ],
          "name": "stdout"
        }
      ]
    },
    {
      "cell_type": "code",
      "metadata": {
        "colab": {
          "base_uri": "https://localhost:8080/"
        },
        "id": "jr3VadwaqOZ9",
        "outputId": "7cdc7e0e-7a36-4d1d-d838-8a8a391d544c"
      },
      "source": [
        "!python findit.py sample_data .csv"
      ],
      "execution_count": 6,
      "outputs": [
        {
          "output_type": "stream",
          "text": [
            "Arguments to sys.arg: ['findit.py', 'sample_data', '.csv']\n",
            "Found matches: ['sample_data/california_housing_train.csv', 'sample_data/mnist_test.csv', 'sample_data/california_housing_test.csv', 'sample_data/mnist_train_small.csv']\n"
          ],
          "name": "stdout"
        }
      ]
    },
    {
      "cell_type": "markdown",
      "metadata": {
        "id": "terApqXtt0dG"
      },
      "source": [
        "`reverseit.py` reverses all lines in a file and prints them out one by one.\n",
        "\n",
        "* Write two lines to a file `input.txt`.\n",
        "* Use the `subprocess` module to run the `/content/reverseit.py` script with `input.txt` as an argument.\n",
        "*  Print out the results.\n",
        "\n",
        "The `reverseit.py` is created below."
      ]
    },
    {
      "cell_type": "code",
      "metadata": {
        "colab": {
          "base_uri": "https://localhost:8080/"
        },
        "id": "zAMf6S98tU19",
        "outputId": "31b1f132-a73d-4f7f-a3d9-11b1cb58638e"
      },
      "source": [
        "%%file reverseit.py\n",
        "import fileinput\n",
        "\n",
        "input_sent = fileinput.input()\n",
        "for line in input_sent:\n",
        "    reversed_line = line[::-1]\n",
        "    print(reversed_line)"
      ],
      "execution_count": 7,
      "outputs": [
        {
          "output_type": "stream",
          "text": [
            "Overwriting reverseit.py\n"
          ],
          "name": "stdout"
        }
      ]
    },
    {
      "cell_type": "code",
      "metadata": {
        "colab": {
          "base_uri": "https://localhost:8080/"
        },
        "id": "k-mkHT7ouwV6",
        "outputId": "88e4eac9-a516-4924-c5a5-a8a03e763660"
      },
      "source": [
        "from subprocess import Popen, PIPE\n",
        "\n",
        "# Write a file\n",
        "with open(\"input.txt\", \"w\") as input_file:\n",
        "    input_file.write(\"Reverse this string\\n\")\n",
        "    input_file.write(\"Reverse this too!\")\n",
        "\n",
        "# Runs python script that reverse strings in a file line by line\n",
        "run_script = Popen([\"python\", \"reverseit.py\", \"input.txt\"], stdout=PIPE)\n",
        "                          \n",
        "# Print out the script output\n",
        "for line in run_script.stdout.readlines():\n",
        "    print(line.decode(\"utf-8\"))\n"
      ],
      "execution_count": 8,
      "outputs": [
        {
          "output_type": "stream",
          "text": [
            "\n",
            "\n",
            "gnirts siht esreveR\n",
            "\n",
            "!oot siht esreveR\n",
            "\n"
          ],
          "name": "stdout"
        }
      ]
    },
    {
      "cell_type": "markdown",
      "metadata": {
        "id": "kYwqR5bHDj2m"
      },
      "source": [
        "# **What is click?**\n",
        "\n",
        "Create beautiful command line interfaces\n",
        "* The `@click.command` decorator is a convention that allows click to turn a function into a command. \n",
        "* The `@click.option` decorator creates a command line option, phrase, that will prompt the user for input.\n",
        "* `click.echo` command emits strings to `stdout` and in this example it returns the tokenized phrase."
      ]
    },
    {
      "cell_type": "code",
      "metadata": {
        "colab": {
          "base_uri": "https://localhost:8080/"
        },
        "id": "n8XzQMCvuyAe",
        "outputId": "9416f849-0c4c-4183-c1bc-60da46cae95f"
      },
      "source": [
        "%%file hello_click.py\n",
        "import click\n",
        "\n",
        "@click.command()\n",
        "@click.option('--phrase', prompt='Enter a phrase',help='test')\n",
        "def tokenize(phrase):\n",
        "    \"\"\"tokenize phrase\"\"\"\n",
        "    click.echo(f\"tokenized phrase: {phrase.split()}\")\n",
        "\n",
        "if __name__ == '__main__':\n",
        "    tokenize()"
      ],
      "execution_count": 9,
      "outputs": [
        {
          "output_type": "stream",
          "text": [
            "Overwriting hello_click.py\n"
          ],
          "name": "stdout"
        }
      ]
    },
    {
      "cell_type": "code",
      "metadata": {
        "colab": {
          "base_uri": "https://localhost:8080/"
        },
        "id": "0MbNUCPCD-g0",
        "outputId": "77128c8a-a90b-4fd7-b2f2-a6fb6346d1f7"
      },
      "source": [
        "!python hello_click.py --phrase \"test t  s \"\n",
        "!python hello_click.py"
      ],
      "execution_count": 14,
      "outputs": [
        {
          "output_type": "stream",
          "text": [
            "tokenized phrase: ['test', 't', 's']\n",
            "Enter a phrase: without phrase flag\n",
            "tokenized phrase: ['without', 'phrase', 'flag']\n"
          ],
          "name": "stdout"
        }
      ]
    },
    {
      "cell_type": "markdown",
      "metadata": {
        "id": "CnjNOibmHYrV"
      },
      "source": [
        "\n",
        "\n",
        "```\n",
        "import sys\n",
        "sys.argv=['']\n",
        "del sys\n",
        "```\n",
        "พอจะเข้าใจแล้วว่า ถ้ารันใน jupyter เลย ต้องใช้คำสั่งเหล่านี้ ทำให้ `sys.argv` ว่างก่อน แต่ถ้ารันใน Shell command จะไม่ต้องใส่ก็ได้\n",
        "\n",
        "Write a code that\n",
        "\n",
        "*  Use `random.choice` to select from cities in the `values` list.\n",
        "*  Print the `result` to stdout using `click`'s `echo` function.\n"
      ]
    },
    {
      "cell_type": "code",
      "metadata": {
        "id": "M_PbwdcGEvRg",
        "colab": {
          "base_uri": "https://localhost:8080/"
        },
        "outputId": "19a68949-bf04-4c66-eeab-e185ccc12230"
      },
      "source": [
        "import click\n",
        "import random\n",
        "random.seed(42)\n",
        "\n",
        "# Create random values to choose from\n",
        "values = [\"Nashville\", \"Austin\", \"Denver\", \"Cleveland\"]\n",
        "\n",
        "# Select a random choice\n",
        "result = random.choice(values)\n",
        "\n",
        "# Print the random choice using click echo\n",
        "click.echo(f\"My choice is: {result}\")\n"
      ],
      "execution_count": 7,
      "outputs": [
        {
          "output_type": "stream",
          "text": [
            "My choice is: Nashville\n"
          ],
          "name": "stdout"
        }
      ]
    },
    {
      "cell_type": "markdown",
      "metadata": {
        "id": "IFIun6YoImNB"
      },
      "source": [
        "Take `cluster.py` that performs `KMeans` clustering and execute it with two different options: `help` and `num`. Run this inside of `subprocess.run` and print both outputs to standard out.\n",
        "\n",
        "* Run the `cluster.py` click application to retrieve a help message using the help flag.\n",
        "* Run the `cluster.py` click application with `num` option of `2`.\n",
        "* Assign the output of the first subprocess to `help_out` and print `stdout`.\n",
        "Assign the output of the second subprocess to `cluster2` and print `stdout`.\n",
        "\n",
        "The file `cluster.py` is created below."
      ]
    },
    {
      "cell_type": "code",
      "metadata": {
        "colab": {
          "base_uri": "https://localhost:8080/"
        },
        "id": "_jaCe9tLIblz",
        "outputId": "f280fea8-0166-417d-d15a-ed2af35c5ce0"
      },
      "source": [
        "%%file cluster.py\n",
        "#!/usr/bin/env python3\n",
        "import click\n",
        "from sklearn.datasets.samples_generator import make_blobs\n",
        "from sklearn.cluster import KMeans\n",
        "\n",
        "def blobs():\n",
        "    X, y = make_blobs(n_samples=10, centers=3, n_features=2,random_state=0)\n",
        "    return X,y\n",
        "\n",
        "def cluster(X, random_state=170, num=2):\n",
        "    return KMeans(n_clusters=num, random_state=random_state).fit_predict(X)\n",
        "\n",
        "def main(num):\n",
        "    X,_ = blobs()\n",
        "    return(cluster(X,num=num))\n",
        "\n",
        "@click.command()\n",
        "@click.option(\"--num\", default=2, help=\"Number of clusters\")\n",
        "def run_cluster(num):\n",
        "    result = main(num)\n",
        "    click.echo(f'Cluster assignments: {result} for total clusters [{num}]')\n",
        "\n",
        "    \n",
        "if __name__ == '__main__':\n",
        "    # pylint: disable=no-value-for-parameter\n",
        "    run_cluster()\n"
      ],
      "execution_count": 15,
      "outputs": [
        {
          "output_type": "stream",
          "text": [
            "Writing cluster.py\n"
          ],
          "name": "stdout"
        }
      ]
    },
    {
      "cell_type": "code",
      "metadata": {
        "colab": {
          "base_uri": "https://localhost:8080/"
        },
        "id": "VeKp4goeLqdT",
        "outputId": "926a3982-73df-472b-a654-4e2a6153ef66"
      },
      "source": [
        "from subprocess import run, PIPE\n",
        "\n",
        "# Run help for click tool\n",
        "help_out = run([\"python\", \"./cluster.py\", \"--help\"], stdout=PIPE)\n",
        "\n",
        "# Run cluster\n",
        "cluster2 = run([\"python\", \"./cluster.py\", \"--num\", \"2\"], stdout=PIPE)\n",
        "\n",
        "# Print help\n",
        "print(help_out.stdout.decode(\"utf-8\"))\n",
        "\n",
        "# Print cluster output\n",
        "print(cluster2.stdout.decode(\"utf-8\"))\n"
      ],
      "execution_count": 20,
      "outputs": [
        {
          "output_type": "stream",
          "text": [
            "Usage: cluster.py [OPTIONS]\n",
            "\n",
            "Options:\n",
            "  --num INTEGER  Number of clusters\n",
            "  --help         Show this message and exit.\n",
            "\n",
            "Cluster assignments: [1 1 0 1 1 0 1 0 0 1] for total clusters [2]\n",
            "\n"
          ],
          "name": "stdout"
        }
      ]
    },
    {
      "cell_type": "markdown",
      "metadata": {
        "id": "7w5J0TOVSueY"
      },
      "source": [
        "* `@click.group()` creates main click application\n",
        "*  `@cli.command()` creates subcommands"
      ]
    },
    {
      "cell_type": "code",
      "metadata": {
        "colab": {
          "base_uri": "https://localhost:8080/"
        },
        "id": "dS92RniDL2UY",
        "outputId": "ba7d70c5-1bf0-4239-a149-8bb0f88f5365"
      },
      "source": [
        "%%file click_functions.py\n",
        "import click\n",
        "\n",
        "@click.group()\n",
        "def cli():\n",
        "    pass\n",
        "\n",
        "@cli.command()\n",
        "def one():\n",
        "    click.echo('One-1')\n",
        "\n",
        "@cli.command()\n",
        "def two():\n",
        "    click.echo('Two-2')\n",
        "\n",
        "if __name__ == '__main__':\n",
        "    cli()"
      ],
      "execution_count": 21,
      "outputs": [
        {
          "output_type": "stream",
          "text": [
            "Writing click_functions.py\n"
          ],
          "name": "stdout"
        }
      ]
    },
    {
      "cell_type": "code",
      "metadata": {
        "colab": {
          "base_uri": "https://localhost:8080/"
        },
        "id": "bpH_s2nTNF3R",
        "outputId": "6e825c61-262e-4cfa-ab62-e348d1567ac2"
      },
      "source": [
        "!python click_functions.py\n",
        "!python click_functions.py one\n",
        "!python click_functions.py two"
      ],
      "execution_count": 24,
      "outputs": [
        {
          "output_type": "stream",
          "text": [
            "Usage: click_functions.py [OPTIONS] COMMAND\n",
            "                          [ARGS]...\n",
            "\n",
            "Options:\n",
            "  --help  Show this message and exit.\n",
            "\n",
            "Commands:\n",
            "  one\n",
            "  two\n",
            "One-1\n",
            "Two-2\n"
          ],
          "name": "stdout"
        }
      ]
    },
    {
      "cell_type": "code",
      "metadata": {
        "colab": {
          "base_uri": "https://localhost:8080/"
        },
        "id": "Mw8X7BD_NKK4",
        "outputId": "2c128ad6-9ca5-45bd-d876-44e7973b816c"
      },
      "source": [
        "import click\n",
        "from click.testing import CliRunner\n",
        "\n",
        "@click.command()\n",
        "@click.argument('phrase')\n",
        "def echo_phrase(phrase):\n",
        "    click.echo('You said: %s' % phrase)\n",
        "\n",
        "runner = CliRunner()\n",
        "result = runner.invoke(echo_phrase, ['Have data will camp'])\n",
        "print(runner)\n",
        "print(result)\n",
        "print(result.output)\n",
        "assert result.output == 'You said: Have data will camp\\n'"
      ],
      "execution_count": 27,
      "outputs": [
        {
          "output_type": "stream",
          "text": [
            "<click.testing.CliRunner object at 0x7f00ceb4eed0>\n",
            "<Result okay>\n",
            "You said: Have data will camp\n",
            "\n"
          ],
          "name": "stdout"
        }
      ]
    },
    {
      "cell_type": "markdown",
      "metadata": {
        "id": "YvmBjG8bVeKC"
      },
      "source": [
        "*  Use `click.open_file()` to open a file for writing.\n",
        "*  Use a loop to iterate over words.\n",
        "*  Write the content in the `words` variable out to this file.\n",
        "*  Read it back in to verify it was successful."
      ]
    },
    {
      "cell_type": "code",
      "metadata": {
        "colab": {
          "base_uri": "https://localhost:8080/"
        },
        "id": "Mcu4ftqzUWlF",
        "outputId": "f821b91d-b76e-4645-bf92-b6c7f385d623"
      },
      "source": [
        "import click\n",
        "\n",
        "# Setup\n",
        "words = [\"Asset\", \"Bubble\", \"10\", \"Year\"]\n",
        "filename = \"words.txt\"\n",
        "\n",
        "# Write with click.open()\n",
        "with click.open_file(filename, 'w') as f:\n",
        "\n",
        "# Loop over words with a for loop\n",
        "    for word in words:\n",
        "        f.write(f'{word}\\n')\n",
        "\n",
        "# Read it back\n",
        "with open(filename) as output_file:\n",
        "    print(output_file.read())\n"
      ],
      "execution_count": 28,
      "outputs": [
        {
          "output_type": "stream",
          "text": [
            "Asset\n",
            "Bubble\n",
            "10\n",
            "Year\n",
            "\n"
          ],
          "name": "stdout"
        }
      ]
    },
    {
      "cell_type": "markdown",
      "metadata": {
        "id": "5M042z8XWPfv"
      },
      "source": [
        "### Invoking command line tests\n",
        "\n",
        "*  Define the `click` command using the two decorators: `@click.command()` and `@click.option()`.\n",
        "*  Use the `CliRunner()` from `click` to run a command line click application.\n",
        "*  Pass in `--num` 2 via the `runner.invoke()` command.\n",
        "*  Assert that the `result` returns exit status of `0`.\n",
        "\n",
        "First, the file `setup.py` is created below."
      ]
    },
    {
      "cell_type": "code",
      "metadata": {
        "colab": {
          "base_uri": "https://localhost:8080/"
        },
        "id": "SgTqizqfV_E7",
        "outputId": "8c9bc9a7-90b6-4f3c-da0d-ee8a9cfbfc3b"
      },
      "source": [
        "%%file setup.py\n",
        "\n",
        "import click\n",
        "from click.testing import CliRunner\n",
        "\n",
        "from sklearn.datasets.samples_generator import make_blobs\n",
        "from sklearn.cluster import KMeans\n",
        "\n",
        "def blobs():\n",
        "    X, y = make_blobs(n_samples=10, centers=3, n_features=2,random_state=0)\n",
        "    return X,y\n",
        "\n",
        "def cluster(X, random_state=170, num=2):\n",
        "    return KMeans(n_clusters=num, random_state=random_state).fit_predict(X)\n",
        "\n",
        "def main(num):\n",
        "    X,_ = blobs()\n",
        "    return(cluster(X,num=num))\n"
      ],
      "execution_count": 29,
      "outputs": [
        {
          "output_type": "stream",
          "text": [
            "Writing setup.py\n"
          ],
          "name": "stdout"
        }
      ]
    },
    {
      "cell_type": "code",
      "metadata": {
        "colab": {
          "base_uri": "https://localhost:8080/"
        },
        "id": "HN3NUV6kZ6PU",
        "outputId": "80f8ac9b-34bd-40f2-b8fc-b3478d6d8db0"
      },
      "source": [
        "import click\n",
        "from click.testing import CliRunner\n",
        "from setup import main\n",
        "\n",
        "# Define the click command\n",
        "@click.command()\n",
        "@click.option(\"--num\", default=2, help=\"Number of clusters\")\n",
        "def run_cluster(num):\n",
        "    result = main(num)\n",
        "    click.echo(f'Cluster assignments: {result} for total clusters [{num}]')\n",
        "\n",
        "# Create the click test runner\n",
        "runner = CliRunner()\n",
        "\n",
        "# Run the click app and assert it runs without error\n",
        "result = runner.invoke(run_cluster, ['--num', '2'])\n",
        "assert result.exit_code == 0\n",
        "print(result.output)\n"
      ],
      "execution_count": 30,
      "outputs": [
        {
          "output_type": "stream",
          "text": [
            "Cluster assignments: [1 1 0 1 1 0 1 0 0 1] for total clusters [2]\n",
            "\n"
          ],
          "name": "stdout"
        },
        {
          "output_type": "stream",
          "text": [
            "/usr/local/lib/python3.7/dist-packages/sklearn/utils/deprecation.py:144: FutureWarning: The sklearn.datasets.samples_generator module is  deprecated in version 0.22 and will be removed in version 0.24. The corresponding classes / functions should instead be imported from sklearn.datasets. Anything that cannot be imported from sklearn.datasets is now part of the private API.\n",
            "  warnings.warn(message, FutureWarning)\n"
          ],
          "name": "stderr"
        }
      ]
    },
    {
      "cell_type": "markdown",
      "metadata": {
        "id": "nfz9wkXfaIGS"
      },
      "source": [
        "Remember that click flags like `--something` need to be passed into functions as `something` to use them in the function."
      ]
    },
    {
      "cell_type": "code",
      "metadata": {
        "id": "HZpZjfmqZ_3J"
      },
      "source": [
        ""
      ],
      "execution_count": null,
      "outputs": []
    }
  ]
}